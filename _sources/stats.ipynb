{
 "cells": [
  {
   "cell_type": "code",
   "execution_count": null,
   "metadata": {},
   "outputs": [],
   "source": [
    "import numpy as np\n",
    "import matplotlib.pyplot as plt\n",
    "import seaborn as sns\n",
    "from scipy import stats\n",
    "from sklearn.linear_model import LinearRegression"
   ]
  },
  {
   "cell_type": "code",
   "execution_count": null,
   "metadata": {},
   "outputs": [],
   "source": [
    "rng = np.random.RandomState(0)"
   ]
  },
  {
   "cell_type": "code",
   "execution_count": null,
   "metadata": {},
   "outputs": [],
   "source": [
    "# source: https://www.uio.no/studier/emner/matnat/math/STK1000/h17/normalfordelingen-tetthetskurver-ch-1.4-11.09.pdf\n",
    "n = 500\n",
    "mean = 168.7\n",
    "sd = 5.8"
   ]
  },
  {
   "cell_type": "code",
   "execution_count": null,
   "metadata": {},
   "outputs": [],
   "source": [
    "data = rng.normal(size=n, loc=mean, scale=sd).astype(int)"
   ]
  },
  {
   "cell_type": "code",
   "execution_count": null,
   "metadata": {
    "scrolled": true
   },
   "outputs": [],
   "source": [
    "plt.figure(figsize=(10, 6))\n",
    "\n",
    "sns.distplot(data, bins = np.linspace(140.5, 199.5, 60), kde=False, norm_hist=True)\n",
    "\n",
    "# calculate the pdf over a range of values\n",
    "xx = np.arange(140.5, 199.5, 0.1)                                                   \n",
    "yy = stats.norm.pdf(xx, loc=np.mean(data), scale=np.std(data))                                                         \n",
    "# and plot on the same axes that seaborn put the histogram\n",
    "plt.plot(xx, yy, 'blue')   \n",
    "plt.xlabel('Høyde (i cm)')\n",
    "plt.ylabel('Tetthet')\n",
    "plt.tight_layout()\n",
    "\n",
    "plt.savefig('height.png')"
   ]
  },
  {
   "cell_type": "code",
   "execution_count": null,
   "metadata": {},
   "outputs": [],
   "source": [
    "plt.figure(figsize=(10, 6))\n",
    "\n",
    "sns.distplot(data, bins = np.linspace(140.5, 199.5, 60), kde=False, norm_hist=True)\n",
    "plt.plot(xx, yy, 'blue')   \n",
    "plt.plot([np.mean(data), np.mean(data)], [0, 0.08], c='r')\n",
    "plt.xlabel('Høyde (i cm)')\n",
    "plt.ylabel('Tetthet')\n",
    "plt.tight_layout()\n",
    "\n",
    "plt.savefig('height_mean.png')"
   ]
  },
  {
   "cell_type": "code",
   "execution_count": null,
   "metadata": {},
   "outputs": [],
   "source": [
    "plt.figure(figsize=(10, 6))\n",
    "\n",
    "sns.distplot(data, bins = np.linspace(140.5, 199.5, 60), kde=False, norm_hist=True)\n",
    "plt.plot(xx, yy, 'blue')   \n",
    "plt.plot([np.median(data), np.median(data)], [0, 0.08], c='r')\n",
    "plt.xlabel('Høyde (i cm)')\n",
    "plt.ylabel('Tetthet')\n",
    "plt.tight_layout()\n",
    "\n",
    "plt.savefig('height_median.png')"
   ]
  },
  {
   "cell_type": "code",
   "execution_count": null,
   "metadata": {},
   "outputs": [],
   "source": [
    "plt.figure(figsize=(10, 6))\n",
    "\n",
    "sns.distplot(data, bins = np.linspace(140.5, 199.5, 60), kde=False, norm_hist=True)\n",
    "plt.plot(xx, yy, 'blue')   \n",
    "plt.plot([stats.mode(data)[0], stats.mode(data)[0]], [0, 0.08], c='r')\n",
    "plt.xlabel('Høyde (i cm)')\n",
    "plt.ylabel('Tetthet')\n",
    "plt.tight_layout()\n",
    "\n",
    "plt.savefig('height_mode.png')"
   ]
  },
  {
   "cell_type": "code",
   "execution_count": null,
   "metadata": {},
   "outputs": [],
   "source": [
    "plt.figure(figsize=(10, 6))\n",
    "\n",
    "sns.distplot(data, bins = np.linspace(140.5, 199.5, 60), kde=False, norm_hist=True)\n",
    "plt.plot(xx, yy, 'blue')  \n",
    "plt.plot([np.mean(data), np.mean(data)], [0, 0.08], label='mean')\n",
    "plt.plot([np.median(data), np.median(data)], [0, 0.08], label='median')\n",
    "plt.plot([stats.mode(data)[0], stats.mode(data)[0]], [0, 0.08], label='mode')\n",
    "plt.xlabel('Høyde (i cm)')\n",
    "plt.ylabel('Tetthet')\n",
    "plt.legend()\n",
    "plt.tight_layout()\n",
    "\n",
    "plt.savefig('height_mmm.png')"
   ]
  },
  {
   "cell_type": "code",
   "execution_count": null,
   "metadata": {},
   "outputs": [],
   "source": [
    "n=1000\n",
    "data = np.hstack((stats.norm(loc=0, scale=3).rvs(size=n).astype(int), \n",
    "                  stats.norm(loc=10, scale=3).rvs(size=n).astype(int)))\n",
    "dmax = 0.15\n",
    "\n",
    "xx = np.arange(-15, 25, .02) \n",
    "yy = 0.5*(stats.norm(loc=0, scale=3).pdf(x=xx) + stats.norm(loc=10, scale=3).pdf(x=xx))\n",
    "\n",
    "plt.figure(figsize=(10, 6))\n",
    "sns.distplot(data, bins = np.arange(-15.5, 25.5, 1), kde=False, norm_hist=True)\n",
    "plt.plot(xx, yy, 'blue')   \n",
    "\n",
    "plt.plot([np.mean(data), np.mean(data)], [0, dmax], label='mean')\n",
    "plt.plot([np.median(data), np.median(data)], [0, dmax], label='median')\n",
    "plt.plot([stats.mode(data)[0], stats.mode(data)[0]], [0, dmax], label='mode')\n",
    "plt.ylabel('Tetthet')\n",
    "#plt.xlim(0, 5)\n",
    "plt.legend()\n",
    "plt.tight_layout()\n",
    "\n",
    "plt.savefig('bimodal.png')"
   ]
  },
  {
   "cell_type": "code",
   "execution_count": null,
   "metadata": {},
   "outputs": [],
   "source": [
    "n=10000\n",
    "data =  stats.lognorm(s=1, loc=0, scale=0.5).rvs(size=n)\n",
    "dmax = 1.3\n",
    "\n",
    "xx = np.arange(0, 5, .02)                                              \n",
    "yy = stats.lognorm(s=1, loc=0, scale=0.5).pdf(x=xx) \n",
    "\n",
    "plt.figure(figsize=(10, 6))\n",
    "sns.distplot(data, bins = np.arange(0, 5, .1), kde=False, norm_hist=True)\n",
    "plt.plot(xx, yy, 'blue')   \n",
    "\n",
    "plt.plot([np.mean(data), np.mean(data)], [0, dmax], label='mean')\n",
    "plt.plot([np.median(data), np.median(data)], [0, dmax], label='median')\n",
    "plt.plot([stats.mode(data)[0], stats.mode(data)[0]], [0, dmax], label='mode')\n",
    "plt.ylabel('Tetthet')\n",
    "plt.xlim(0, 5)\n",
    "plt.legend()\n",
    "plt.tight_layout()\n",
    "\n",
    "plt.savefig('lognormal.png')"
   ]
  },
  {
   "cell_type": "code",
   "execution_count": null,
   "metadata": {
    "scrolled": true
   },
   "outputs": [],
   "source": [
    "xx = np.arange(-15, 25, .02) \n",
    "plt.figure(figsize=(10, 6))\n",
    "for i in range(6):\n",
    "    yy = stats.norm(loc=5, scale=2*i).pdf(x=xx) \n",
    "    plt.plot(xx, yy)   \n",
    "\n",
    "plt.plot([5, 5], [0, 0.2], label='lokalisering')\n",
    "\n",
    "plt.ylabel('Tetthet')\n",
    "plt.legend()\n",
    "plt.tight_layout()\n",
    "\n",
    "plt.savefig('normal_sd.png')"
   ]
  },
  {
   "cell_type": "code",
   "execution_count": null,
   "metadata": {},
   "outputs": [],
   "source": [
    "xx_normal = np.arange(-5, 5, .01)\n",
    "yy_normal = stats.norm(loc=0, scale=1).pdf(x=xx_normal) \n",
    "\n",
    "xx = np.arange(-1, 10, .01)\n",
    "\n",
    "fig, axes = plt.subplots(2, 3, figsize=(10, 6))\n",
    "\n",
    "yy = stats.expon(loc=0, scale=1).pdf(x=xx) \n",
    "\n",
    "axes[0, 0].plot(xx, yy)   \n",
    "axes[0, 0].set_ylabel('Tetthet')\n",
    "axes[0, 0].set_title('Tetthetsfunksjon')\n",
    "\n",
    "clt = {}\n",
    "ns = [1, 5, 10, 50, 100]\n",
    "for i, n in enumerate(ns): \n",
    "    clt[n] = []\n",
    "    for _ in range(1000):\n",
    "        X = stats.expon(loc=0, scale=1).rvs(size=n) \n",
    "        Y = np.sqrt(n)*(np.mean(X) - 1)\n",
    "        clt[n].append(Y)\n",
    "        \n",
    "    sns.distplot(clt[n], ax = axes[(i+1)//3, (i+1)%3], kde=False, norm_hist=True)\n",
    "    axes[(i+1)//3, (i+1)%3].plot(xx_normal, yy_normal)\n",
    "    axes[(i+1)//3, (i+1)%3].set_title('n={}'.format(n))\n",
    "\n",
    "plt.tight_layout()\n",
    "\n",
    "plt.savefig('exponential_clt.png')"
   ]
  },
  {
   "cell_type": "code",
   "execution_count": null,
   "metadata": {
    "scrolled": true
   },
   "outputs": [],
   "source": [
    "x = [1, 4, 5.5]\n",
    "print(np.var(x), np.var(x, ddof=1), stats.tvar(x))\n",
    "print(np.std(x), np.std(x, ddof=1), stats.tstd(x))"
   ]
  },
  {
   "cell_type": "code",
   "execution_count": null,
   "metadata": {},
   "outputs": [],
   "source": [
    "X = rng.uniform(size=12)\n",
    "q25 = np.quantile(X, 0.25)\n",
    "q75 = np.quantile(X, 0.75)\n",
    "plt.scatter(np.repeat(0, len(X)), X, c='black')\n",
    "plt.plot([-1, 1], np.repeat(np.median(X), 2), label='median')\n",
    "plt.plot([-1, 1], np.repeat(q25, 2), label='25% kvantil')\n",
    "plt.plot([-1, 1], np.repeat(q75, 2), label='75% kvantil')\n",
    "plt.ylim([0, 1])\n",
    "plt.arrow(-0.5, q25, 0, q75-q25-0.1, head_width=0.05, head_length=0.1, fc='k', ec='k')\n",
    "plt.arrow(-0.5, q75, 0, q25-q75+0.1, head_width=0.05, head_length=0.1, fc='k', ec='k')\n",
    "plt.text(-0.75, 0.5, 'IQR')\n",
    "plt.legend()\n",
    "plt.savefig('quantiles.png')"
   ]
  },
  {
   "cell_type": "code",
   "execution_count": null,
   "metadata": {},
   "outputs": [],
   "source": [
    "# set random state\n",
    "rng = np.random.RandomState(42)\n",
    "\n",
    "# generate data\n",
    "n = 100\n",
    "X = rng.uniform(size=(n, 4))\n",
    "y0 = 1 + np.dot(X, [2, -3, 1, -1]) \n",
    "y = y0 + rng.normal(size=n)\n",
    "\n",
    "# fit linear regression\n",
    "lr = LinearRegression().fit(X, y)\n",
    "print(lr.intercept_, lr.coef_)"
   ]
  },
  {
   "cell_type": "code",
   "execution_count": null,
   "metadata": {},
   "outputs": [],
   "source": [
    "# tap\n",
    "print('Tap med sanne koeffisienter : ', \n",
    "      np.sum((y - y0)**2))\n",
    "print('Tap med tilpassede koeffisienter: ', \n",
    "      np.sum((y - lr.predict(X))**2))"
   ]
  },
  {
   "cell_type": "code",
   "execution_count": null,
   "metadata": {},
   "outputs": [],
   "source": [
    "data = rng.normal(loc=0, scale=1, size = 10000)\n",
    "\n",
    "ns = range(1, len(data)+1) \n",
    "means = [np.mean(data[:(i)]) for i in ns]\n",
    "\n",
    "plt.figure(figsize=(10, 6))\n",
    "\n",
    "sns.lineplot(ns, means, label='mean')\n",
    "sns.lineplot(ns, np.repeat(0, len(ns)), label='forventningsverdi')\n",
    "\n",
    "plt.xlabel('antall datapunkter')\n",
    "plt.ylabel('mean')\n",
    "\n",
    "plt.tight_layout()\n",
    "\n",
    "plt.savefig('sample_lln.png')"
   ]
  }
 ],
 "metadata": {
  "kernelspec": {
   "display_name": "Python 3 (ipykernel)",
   "language": "python",
   "name": "python3"
  },
  "language_info": {
   "codemirror_mode": {
    "name": "ipython",
    "version": 3
   },
   "file_extension": ".py",
   "mimetype": "text/x-python",
   "name": "python",
   "nbconvert_exporter": "python",
   "pygments_lexer": "ipython3",
   "version": "3.12.4"
  }
 },
 "nbformat": 4,
 "nbformat_minor": 4
}
