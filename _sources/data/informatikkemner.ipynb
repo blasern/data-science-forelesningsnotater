{
 "cells": [
  {
   "cell_type": "code",
   "execution_count": null,
   "id": "14affd16-fd8d-4a84-ac2d-64ad8bbde05d",
   "metadata": {},
   "outputs": [],
   "source": [
    "import pandas as pd\n",
    "import re\n",
    "from urllib.request import urlopen"
   ]
  },
  {
   "cell_type": "code",
   "execution_count": null,
   "id": "d58b6f51-dacf-4177-ac9a-3d4936e1e946",
   "metadata": {},
   "outputs": [],
   "source": [
    "# find II subjects\n",
    "url = 'https://www.uib.no/ii/emner' \n",
    "page = urlopen(url)\n",
    "html_bytes = page.read()\n",
    "html = html_bytes.decode(\"utf-8\")\n",
    "\n",
    "subjects = re.findall('<a href=\"/nb/emne/(.*?)\">', html)\n",
    "subject_urls = {subject: 'https://www.uib.no/nb/emne/' + subject for subject in subjects}"
   ]
  },
  {
   "cell_type": "code",
   "execution_count": null,
   "id": "1a356edd-2e1f-43fb-a8fe-91075f846ce0",
   "metadata": {},
   "outputs": [],
   "source": [
    "def extract_subject_information(emnekode, url):\n",
    "    page = urlopen(url)\n",
    "    html_bytes = page.read()\n",
    "    html = html_bytes.decode(\"utf-8\")\n",
    "\n",
    "    tittel = re.findall('<h1 class=\"course-title\">(.*?)</h1>', html)[0]\n",
    "    nivå = re.findall('<h2 class=\"course-level\">(.*?)</h2>', html)[0]   \n",
    "    \n",
    "    try:\n",
    "        semester = re.findall('<dt>Undervisningssemester</dt>\\n(.*?)\\n', html)[0] \n",
    "        semester = re.sub(\"</?dd[^>]*>\", \"\", semester.strip())\n",
    "    except IndexError:\n",
    "        semester = \"Uvisst\" \n",
    "    \n",
    "    studiepoeng = float(re.findall('<dt>Studiepoeng</dt>\\n                  <dd>(.*?)</dd>\\n', html)[0])\n",
    "\n",
    "    try: \n",
    "        vurdering = re.findall('<dt>Vurderingsordning</dt>\\n        <dd>(.*?)</dd>\\n', html)[0] \n",
    "    except IndexError:\n",
    "        return dict(emnekode=emnekode, \n",
    "                tittel=tittel, \n",
    "                semester=semester, \n",
    "                nivå=nivå, \n",
    "                studiepoeng=studiepoeng)\n",
    "        \n",
    "\n",
    "    return dict(emnekode=emnekode, \n",
    "                tittel=tittel, \n",
    "                semester=semester, \n",
    "                nivå=nivå, \n",
    "                studiepoeng=studiepoeng,\n",
    "                vurdering=vurdering)"
   ]
  },
  {
   "cell_type": "code",
   "execution_count": null,
   "id": "d82e13e6-0cf9-44fe-9e2f-e539427d9d9a",
   "metadata": {},
   "outputs": [],
   "source": [
    "df = pd.DataFrame([extract_subject_information(emnekode, url) for emnekode, url in subject_urls.items()])"
   ]
  },
  {
   "cell_type": "code",
   "execution_count": null,
   "id": "a38f16b9-0c30-45db-8f52-662816ecab99",
   "metadata": {},
   "outputs": [],
   "source": [
    "df.to_csv('informatikkemner_uib.csv', index=False)"
   ]
  }
 ],
 "metadata": {
  "kernelspec": {
   "display_name": "Python 3 (ipykernel)",
   "language": "python",
   "name": "python3"
  },
  "language_info": {
   "codemirror_mode": {
    "name": "ipython",
    "version": 3
   },
   "file_extension": ".py",
   "mimetype": "text/x-python",
   "name": "python",
   "nbconvert_exporter": "python",
   "pygments_lexer": "ipython3",
   "version": "3.12.4"
  }
 },
 "nbformat": 4,
 "nbformat_minor": 5
}
