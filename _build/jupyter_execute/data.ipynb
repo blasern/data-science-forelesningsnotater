{
 "cells": [
  {
   "cell_type": "markdown",
   "metadata": {
    "editable": true,
    "slideshow": {
     "slide_type": ""
    },
    "tags": []
   },
   "source": [
    "(sec:data)=\n",
    "# Data\n",
    "\n",
    "Det første kapitelet handler om data og variabler. Det er viktig å tenke på hva slags variabler data inneholder for å forberede og analysere de.\n",
    "\n",
    "Det er et velkjent ordtak at folk som jobber med data science bruker 80% av tiden sin for å rense og forberede data i stedet for å faktisk hente ut innsikt. Det finnes ingen god kilde for dette og det riktige tallet er nok lavere enn 80%, men det stemmer at data forberedelse kan være en stor del av et data science prosjekt. Derfor er det viktig å tenke på hva som er målet ved å forberede data hva slags verktøy vi kan bruke for dette. "
   ]
  },
  {
   "cell_type": "markdown",
   "metadata": {
    "editable": true,
    "slideshow": {
     "slide_type": ""
    },
    "tags": []
   },
   "source": [
    "## Strukturerte og ustrukturerte data \n",
    "\n",
    "Grovt underdeler vi data i strukturerte og ustrukturerte data. Strukturerte data er all data som kan skrives i en tabell, eller et excel ark. Det kan for eksempel være data om personer og inkludere kolonner som navn, adresse, kjønn, osv. I så fall tenker vi på hver kolonne som en egenskap og hver rad som å representere et datapunkt. "
   ]
  },
  {
   "cell_type": "code",
   "execution_count": 1,
   "metadata": {
    "editable": true,
    "slideshow": {
     "slide_type": ""
    },
    "tags": [
     "hide-input"
    ]
   },
   "outputs": [
    {
     "data": {
      "text/html": [
       "<div>\n",
       "<style scoped>\n",
       "    .dataframe tbody tr th:only-of-type {\n",
       "        vertical-align: middle;\n",
       "    }\n",
       "\n",
       "    .dataframe tbody tr th {\n",
       "        vertical-align: top;\n",
       "    }\n",
       "\n",
       "    .dataframe thead th {\n",
       "        text-align: right;\n",
       "    }\n",
       "</style>\n",
       "<table border=\"1\" class=\"dataframe\">\n",
       "  <thead>\n",
       "    <tr style=\"text-align: right;\">\n",
       "      <th></th>\n",
       "      <th>navn</th>\n",
       "      <th>alder</th>\n",
       "    </tr>\n",
       "  </thead>\n",
       "  <tbody>\n",
       "    <tr>\n",
       "      <th>0</th>\n",
       "      <td>Nora</td>\n",
       "      <td>25</td>\n",
       "    </tr>\n",
       "    <tr>\n",
       "      <th>1</th>\n",
       "      <td>Lucas</td>\n",
       "      <td>19</td>\n",
       "    </tr>\n",
       "    <tr>\n",
       "      <th>2</th>\n",
       "      <td>Isak</td>\n",
       "      <td>23</td>\n",
       "    </tr>\n",
       "    <tr>\n",
       "      <th>3</th>\n",
       "      <td>Ella</td>\n",
       "      <td>22</td>\n",
       "    </tr>\n",
       "  </tbody>\n",
       "</table>\n",
       "</div>"
      ],
      "text/plain": [
       "    navn  alder\n",
       "0   Nora     25\n",
       "1  Lucas     19\n",
       "2   Isak     23\n",
       "3   Ella     22"
      ]
     },
     "execution_count": 1,
     "metadata": {},
     "output_type": "execute_result"
    }
   ],
   "source": [
    "import pandas as pd\n",
    "pd.set_option(\"display.max_columns\", 16)\n",
    "df = pd.DataFrame(dict(navn=['Nora', 'Lucas', 'Isak', 'Ella'], alder=[25, 19, 23, 22]))\n",
    "df"
   ]
  },
  {
   "cell_type": "markdown",
   "metadata": {
    "editable": true,
    "slideshow": {
     "slide_type": ""
    },
    "tags": []
   },
   "source": [
    "Her er et eksempel der hver rad representerer en person og kolonnene er egenskapene av personen, i dette tilfelle navn og alder. "
   ]
  },
  {
   "cell_type": "markdown",
   "metadata": {
    "editable": true,
    "slideshow": {
     "slide_type": ""
    },
    "tags": []
   },
   "source": [
    "I motsetning til strukturerte data har vi ustrukturerte data som tekst, bilder, audio, video og mange flere. \n",
    "For å analysere ustrukturerte data har vi to muligheter. Vi kan omgjøre de til strukturerte data eller vi kan bruke spesielt tilpassete metoder. \n",
    "\n",
    "Her er et eksempel med tekstdata. Hvis vi har to tilbakemeldinger av studenter fra data science kurset og prøver å finne ut om de som skrev det likte serien. Data er tekst og kan ikke enkelt skrives i  tabellformat. \n",
    "\n",
    "> Student A: Jeg likte kurset godt og jeg lærte mye, men det gikk litt raskt.\n",
    "> \n",
    "> Student B: Tempoet i kurset var altfor raskt, jeg lærte ingenting. \n",
    "\n",
    "Men en måte å oversette det til tabellformat er å ta alle ord som kolonner og bare telle hvor mange ganger ordet dukker opp i tilbakemeldingen. Det har fordelen at det blir strukturerte data, men ulempen at vi mister informasjon om rekkefølge av ordene. Så vi mister en viktig del av informasjonen fra de opprinnelige data."
   ]
  },
  {
   "cell_type": "markdown",
   "metadata": {},
   "source": [
    "| Student | Jeg | likte | kurset | godt | ... |\n",
    "|---------|-----|-------|--------|------|-----|\n",
    "| A       | 2   | 1     | 1      | 1    |     |\n",
    "| B       | 1   | 0     | 1      | 0    |     |"
   ]
  },
  {
   "cell_type": "markdown",
   "metadata": {
    "editable": true,
    "slideshow": {
     "slide_type": ""
    },
    "tags": []
   },
   "source": [
    "Her er et annet eksempel. Et bilde som dette kan selvfølgelig lages om som en rad i en tabell, der hver kolonne representerer en piksel. Men hvis vi analyserer det på denne måten så har vi mistet informasjonen om hvilke piksler som er ved siden av hverandre. Hvis vi flytter objektet i bildet litt, så endrer piksler seg mye selv om det ikke var en visuelt stor endring. "
   ]
  },
  {
   "cell_type": "code",
   "execution_count": 2,
   "metadata": {
    "editable": true,
    "slideshow": {
     "slide_type": ""
    },
    "tags": [
     "hide-input"
    ]
   },
   "outputs": [
    {
     "data": {
      "image/png": "[encoded data removed]",
      "text/plain": [
       "<Figure size 640x480 with 2 Axes>"
      ]
     },
     "metadata": {},
     "output_type": "display_data"
    }
   ],
   "source": [
    "import numpy as np \n",
    "from sklearn.datasets import load_digits\n",
    "import matplotlib.pyplot as plt\n",
    "\n",
    "# get image\n",
    "image = load_digits()['data'][0].reshape(8, 8)\n",
    "\n",
    "# shift image\n",
    "shifted = np.roll(image, (1, 1), axis=(0, 1))\n",
    "\n",
    "# Plot images\n",
    "f, (ax1, ax2) = plt.subplots(1, 2, sharey=True)\n",
    "plt.gray()\n",
    "ax1.matshow(image)\n",
    "ax2.matshow(shifted)\n",
    "plt.show()"
   ]
  },
  {
   "cell_type": "markdown",
   "metadata": {
    "editable": true,
    "slideshow": {
     "slide_type": ""
    },
    "tags": []
   },
   "source": [
    "Her er de to bildene: originalet og den som er flyttet litt. "
   ]
  },
  {
   "cell_type": "code",
   "execution_count": 3,
   "metadata": {
    "editable": true,
    "slideshow": {
     "slide_type": ""
    },
    "tags": [
     "hide-input"
    ]
   },
   "outputs": [
    {
     "data": {
      "text/html": [
       "<div>\n",
       "<style scoped>\n",
       "    .dataframe tbody tr th:only-of-type {\n",
       "        vertical-align: middle;\n",
       "    }\n",
       "\n",
       "    .dataframe tbody tr th {\n",
       "        vertical-align: top;\n",
       "    }\n",
       "\n",
       "    .dataframe thead th {\n",
       "        text-align: right;\n",
       "    }\n",
       "</style>\n",
       "<table border=\"1\" class=\"dataframe\">\n",
       "  <thead>\n",
       "    <tr style=\"text-align: right;\">\n",
       "      <th></th>\n",
       "      <th>0</th>\n",
       "      <th>1</th>\n",
       "      <th>2</th>\n",
       "      <th>3</th>\n",
       "      <th>4</th>\n",
       "      <th>5</th>\n",
       "      <th>6</th>\n",
       "      <th>7</th>\n",
       "      <th>...</th>\n",
       "      <th>56</th>\n",
       "      <th>57</th>\n",
       "      <th>58</th>\n",
       "      <th>59</th>\n",
       "      <th>60</th>\n",
       "      <th>61</th>\n",
       "      <th>62</th>\n",
       "      <th>63</th>\n",
       "    </tr>\n",
       "  </thead>\n",
       "  <tbody>\n",
       "    <tr>\n",
       "      <th>original</th>\n",
       "      <td>0.0</td>\n",
       "      <td>0.0</td>\n",
       "      <td>5.0</td>\n",
       "      <td>13.0</td>\n",
       "      <td>9.0</td>\n",
       "      <td>1.0</td>\n",
       "      <td>0.0</td>\n",
       "      <td>0.0</td>\n",
       "      <td>...</td>\n",
       "      <td>0.0</td>\n",
       "      <td>0.0</td>\n",
       "      <td>6.0</td>\n",
       "      <td>13.0</td>\n",
       "      <td>10.0</td>\n",
       "      <td>0.0</td>\n",
       "      <td>0.0</td>\n",
       "      <td>0.0</td>\n",
       "    </tr>\n",
       "    <tr>\n",
       "      <th>shifted</th>\n",
       "      <td>0.0</td>\n",
       "      <td>0.0</td>\n",
       "      <td>0.0</td>\n",
       "      <td>6.0</td>\n",
       "      <td>13.0</td>\n",
       "      <td>10.0</td>\n",
       "      <td>0.0</td>\n",
       "      <td>0.0</td>\n",
       "      <td>...</td>\n",
       "      <td>0.0</td>\n",
       "      <td>0.0</td>\n",
       "      <td>2.0</td>\n",
       "      <td>14.0</td>\n",
       "      <td>5.0</td>\n",
       "      <td>10.0</td>\n",
       "      <td>12.0</td>\n",
       "      <td>0.0</td>\n",
       "    </tr>\n",
       "  </tbody>\n",
       "</table>\n",
       "<p>2 rows × 64 columns</p>\n",
       "</div>"
      ],
      "text/plain": [
       "           0    1    2     3     4     5    6    7   ...   56   57   58    59  \\\n",
       "original  0.0  0.0  5.0  13.0   9.0   1.0  0.0  0.0  ...  0.0  0.0  6.0  13.0   \n",
       "shifted   0.0  0.0  0.0   6.0  13.0  10.0  0.0  0.0  ...  0.0  0.0  2.0  14.0   \n",
       "\n",
       "            60    61    62   63  \n",
       "original  10.0   0.0   0.0  0.0  \n",
       "shifted    5.0  10.0  12.0  0.0  \n",
       "\n",
       "[2 rows x 64 columns]"
      ]
     },
     "execution_count": 3,
     "metadata": {},
     "output_type": "execute_result"
    }
   ],
   "source": [
    "df_image = pd.DataFrame(dict(original=image.flatten(), shifted=shifted.flatten())).T\n",
    "df_image"
   ]
  },
  {
   "cell_type": "markdown",
   "metadata": {
    "editable": true,
    "slideshow": {
     "slide_type": ""
    },
    "tags": []
   },
   "source": [
    "Og her er hva som skjer i tabellen, der hver kolonne representerer en piksel. "
   ]
  },
  {
   "cell_type": "markdown",
   "metadata": {
    "editable": true,
    "slideshow": {
     "slide_type": ""
    },
    "tags": []
   },
   "source": [
    "Den andre måten å analysere ustrukturerte data på er å bruke spesielt tilpassete metoder. Det er som oftest en bedre løsning fordi den ikke mister informasjon. Men denne løsningen er utenfor omfang av dette kurset. Derfor kommer vi i dette kurset til å se kun på strukturerte data. "
   ]
  },
  {
   "cell_type": "markdown",
   "metadata": {
    "editable": true,
    "slideshow": {
     "slide_type": ""
    },
    "tags": []
   },
   "source": [
    "## Variabeltyper\n",
    "\n",
    "Da er vi klare for å klassifisere strukturerte data. "
   ]
  },
  {
   "cell_type": "markdown",
   "metadata": {
    "editable": true,
    "slideshow": {
     "slide_type": ""
    },
    "tags": []
   },
   "source": [
    "![structured_data](figures/structured.svg)"
   ]
  },
  {
   "cell_type": "markdown",
   "metadata": {
    "editable": true,
    "slideshow": {
     "slide_type": ""
    },
    "tags": []
   },
   "source": [
    "På den ene siden har vi numeriske data, som underdeles igjen i kontinuerlige og diskrete variabler. Kontinuerlige variabler er data som kan ta hvilken som helst verdi innen et gitt interval. Typiske eksempler av kontinuerlige variabler kan være høyde eller alder. Diskrete variabler er numeriske data som bare kan ha et utvalg av mulige verdier. For eksempel antall barn, eller mål i en fotballkamp. Det gir ingen mening å snakke om 1.3 barn, det er enten ett eller to. \n",
    "Denne skillelinjen er ikke så skarp som man kanskje skulle trodd. Hvis jeg måler høyde, så kan jeg kanskje bare måle det med en presisjon av 5 millimeter. I så fall er det bare en diskret antall verdier jeg faktisk kan ha i data. Men vi modellerer høyde likevel som kontinuerlig, fordi det gir mening å si at noen er 175,28 centimeter og høy selv om vi ikke kan måle det. \n",
    "\n",
    "På den andre siden har vi kategoriske variabler. Det er data som består av kategorier i stedet for tall. Typiske eksempler er kjønn, eller utdanningsnivå. Blant kategoriske variabler finnes det nominale og ordinale variabler. Nominale variabler er variabler der det ikke finnes noe rekkefølge av kategoriene. For eksempel kjønn eller yrke. \n",
    "\n",
    "Ordinale variabler er kategoriske variabler som har en opplagt rekkefølge i kategoriene. For eksempel hvis jeg lager en spørreundersøkelse om hvor godt forelesningsnotatene er likt blant studentene. I så fall er det kanskje svarkategoriene \"veldig dårlig\", \"dårlig\", \"nøytral\", \"bra\" eller \"veldig bra\". I så fall gir det mening å si at \"veldig bra\" er bedre enn \"bra\", som er bedre enn \"nøytral\" og så videre. "
   ]
  },
  {
   "cell_type": "markdown",
   "metadata": {
    "editable": true,
    "slideshow": {
     "slide_type": ""
    },
    "tags": []
   },
   "source": [
    "Nå har vi hørt litt om forskjellige typer variabler. Men hvorfor bryr vi oss egentlig om dette? "
   ]
  },
  {
   "cell_type": "markdown",
   "metadata": {
    "editable": true,
    "slideshow": {
     "slide_type": ""
    },
    "tags": []
   },
   "source": [
    "La oss si at vi har en undersøkelse som vurderer kundetilfredshet med svaralternativ \"svært misfornøyd\", \"misfornøyd\", \"nøytral\", \"fornøyd\" og \"svært fornøyd\". Dette er en ordinal variabel fordi det er en naturlig rekkefølge i svarkategoriene, men avstanden mellom dem er ikke nødvendigvis lik. Her er litt eksempeldata: \n",
    "\n",
    "| Kategori             | Frekvens |\n",
    "|----------------------|----------|\n",
    "| Svært misfornøyd (1) | 10       |\n",
    "| Misfornøyd (2)       | 20       |\n",
    "| Nøytral (3)          | 25       |\n",
    "| Fornøyd (4)          | 30       |\n",
    "| Svært fornøyd (5)    | 15       |\n",
    "\n",
    "\n",
    "Hvis vi behandler denne ordinalvariabelen som en nominal kategorisk variabel, vil vi ignorere rekkefølgen. Hvis vi skal oppsummere variablen, så konkluderer vi kanskje at kategorien som ble svart mest (mode) er fornøyd (30% av svar).  \n",
    "\n",
    "Hvis vi behandler denne ordinalvariabelen som en numerisk variabel, antar vi at avstanden mellom kategoriene er lik. Vi bruker altså for eksempel koden 1 for \"svært misfornøyd\", koden 2 for \"misfornøyd\", og så videre til koden 5 for svært fornøyd. For å oppsummere variablen vil vi kanskje ta gjennomsnittet (mean). Vi finner altså det er \n",
    "\n",
    "$$\\text{mean}=\\frac{(1⋅10)+(2⋅20)+(3⋅25)+(4⋅30)+(5⋅15)}{100}=3.2$$\n",
    "\n",
    "Denne gjennomsnittsverdien gir oss et tall, men det gir ikke meningsfull informasjon om kundetilfredsheten, spesielt siden avstanden mellom kategoriene ikke er lik.\n",
    "\n",
    "Når vi behandler variabelen som ordinal, tar vi hensyn til rekkefølgen, men ikke nødvendigvis avstanden mellom kategoriene. For eksempel kan vi bruke medianen i stedet for mean for å oppsummere kundetilfredshet. Medianen tar hensyn til rekkefølgen, men ikke avstanden mellom kategoriene.\n",
    "\n",
    "Medianen er verdien som deler dataene i to like store deler. I vårt tilfelle, hvis vi sorterer dataene og finner vi at medianen er verdien ved den 50. observasjonen, som i dette tilfellet er \"nøytral\"."
   ]
  },
  {
   "cell_type": "markdown",
   "metadata": {
    "editable": true,
    "slideshow": {
     "slide_type": ""
    },
    "tags": []
   },
   "source": [
    "Nå har vi allerede sett på et eksempel av ordinale data. Hvis vi har nominale data i stedet, så gir det ikke mening si at en kategori er større eller mindre enn en annen. \n",
    "\n",
    "La oss ta et eksempel der vi har en dataset med informasjon om studenter og deres studieprogrammer.\n",
    "\n",
    "| StudentID | Studieprogram |\n",
    "|:---------:|:-------------:|\n",
    "| abc123    | Informatikk   |\n",
    "| def456    | Matematikk    |\n",
    "| ghi789    | Fysikk        |\n",
    "| nbl630    | Kjemi         |\n",
    "| jbo006    | Biologi       |\n",
    "| ppa040    | Matematikk    |\n",
    "| fze128    | Informatikk   |\n",
    "| nga042    | Kjemi         |\n",
    "\n",
    "I dette tilfellet pleier vi å lage flere såkalte dummy-variabler ut av den kategoriske variablen. Vi bruker så mange variabler som det var kategorier og hver av disse nye kategorivariablene er 1 hvis radet er fra denne kategorien og 0 ellers. Her er hvordan datasetet ser ut etter dummy-koding:\n",
    "\n",
    "| StudentID | Informatikk | Matematikk | Fysikk | Kjemi | Biologi |\n",
    "|:---------:|-------------|------------|--------|-------|---------|\n",
    "| abc123    | 1           | 0          | 0      | 0     | 0       |\n",
    "| def456    | 0           | 1          | 0      | 0     | 0       |\n",
    "| ghi789    | 0           | 0          | 1      | 0     | 0       |\n",
    "| nbl630    | 0           | 0          | 0      | 1     | 0       |\n",
    "| jbo006    | 0           | 0          | 0      | 0     | 1       |\n",
    "| ppa040    | 0           | 1          | 0      | 0     | 0       |\n",
    "| fze128    | 1           | 0          | 0      | 0     | 0       |\n",
    "| nga042    | 0           | 0          | 0      | 1     | 0       |\n",
    "\n",
    "Fordeler med dummy-variabler er at vi enkelt kan inkludere studieprogrammet i vår statistiske modell og få innsikt i hvordan for eksempel karakterer varierer mellom de forskjellige programmene. Dette lar oss også utføre hypotesetester for å se om det er forskjeller mellom studieprogrammene."
   ]
  },
  {
   "cell_type": "markdown",
   "metadata": {
    "editable": true,
    "slideshow": {
     "slide_type": ""
    },
    "tags": []
   },
   "source": [
    "(sec:ryddig)=\n",
    "## Ryddige data\n",
    "\n",
    "Hva mener vi med ryddig data? Prinsippene for ryddig data er egentlig veldig enkle, men det er ofte verdifullt å tenke på de prinsippene. Vi kan spare mye tid hvis vi vet akkurat hvordan vi har lyst å sette opp data. I ryddige data har hver variabel sin egen kolonne og hver observasjon sin egen rad. Det finnes mange eksempler av uryddige data. I så fall må vi først lage data om til et ryddig format før vi kan analysere de. Her finnes det mange eksempler. \n",
    "\n",
    "Et eksempel der en kolonne inneholder flere variabler er følgende, der både karakter og antall poeng er i samme kolonnen. \n",
    "\n",
    "| StudentID |  Matematikk  |    Fysikk    |\n",
    "|:---------:|:------------:|:------------:|\n",
    "| abc123    | A (95 poeng) | B (85 poeng) |\n",
    "| def456    | B (82 poeng) | D (68 poeng) |\n",
    "| ghi789    | C (76 poeng) | A (92 poeng) |\n",
    "\n",
    "En mer ryddig variant ville delt det opp: \n",
    "\n",
    "| StudentID | Matematikk-Karakter | Fysikk-Karakter | Matematikk-Poeng | Fysikk-Poeng |\n",
    "|:---------:|:-------------------:|:---------------:|:----------------:|:------------:|\n",
    "| abc123    | A                   | B               | 95               | 85           |\n",
    "| def456    | B                   | D               | 82               | 68           |\n",
    "| ghi789    | C                   | A               | 76               | 92           |\n",
    "\n",
    "\n",
    "\n",
    "Det er kanskje mindre åpenbar hva det betyr at hver observasjon skal ha sin egen rad. Hva som er en observasjon avhenger av målet med analysen vår. \n",
    "Hvis vi prøver å predikere eksamenskarakteren til studenter i data science, så er følgende ryddige data: \n",
    "\n",
    "| StudentID | Alder | Studieprogram-Informatikk | Studieprogram-Statistikk | Karakter-Programmering | Karakter-Kalkulus |\n",
    "|-----------|-------|---------------------------|--------------------------|------------------------|-------------------|\n",
    "| abc123    | 24    | 1                         | 0                        | 3                      | 6                 |\n",
    "| def456    | 21    | 0                         | 1                        | 5                      | 4                 |\n",
    "| ghi789    | 32    | 1                         | 0                        | 5                      | 5                 |\n",
    "\n",
    "Her prøver vi å predikere ut data science karakter per student, så vi vil ha en rad per student. I tillegg er hver kolonne en variabel som kan hjelpe oss med prediksjonen. \n",
    "\n",
    "Et eksempel av samme data på et uryddig format for spørsmålet vi prøver å svare på er følgende: \n",
    "\n",
    "| StudentID | Alder | Studieprogram | Fag           | Karakter |\n",
    "|-----------|-------|---------------|---------------|----------|\n",
    "| abc123    | 24    | Informatikk   | Programmering | 3        |\n",
    "| def456    | 21    | Statistikk    | Programmering | 5        |\n",
    "| ghi789    | 32    | Informatikk   | Programmering | 5        |\n",
    "| abc123    | 24    | Informatikk   | Kalkulus      | 6        |\n",
    "| def456    | 21    | Statistikk    | Kalkulus      | 4        |\n",
    "| ghi789    | 32    | Informatikk   | Kalkulus      | 5        |\n",
    "\n",
    "Det viser akkurat samme data, men her er det to rad per student. Sånn er ikke det enkelt å predikere én karakter per student. I underkapittel {ref}`sec:pandas` ser vi hvordan å omformatere data slikt. "
   ]
  },
  {
   "cell_type": "markdown",
   "metadata": {
    "editable": true,
    "slideshow": {
     "slide_type": ""
    },
    "tags": []
   },
   "source": [
    "(sec:numpy)=\n",
    "## Numpy\n",
    "\n",
    "Denne delen handler om numpy-biblioteket, som vi bruker veldig ofte når vi jobber med data i python. Først er det viktig å huska at man ikke blir flink til å bruke numpy ved å lese om bruken av numpy. Den eneste måten man lærer å programmere er ved å faktisk programmere. \n",
    "\n",
    "Numpy er et bibliotek som brukes for å lage vektorer og matrisser. Her lager vi en vektor av som inneholder tall 1 og 2. "
   ]
  },
  {
   "cell_type": "code",
   "execution_count": 4,
   "metadata": {
    "editable": true,
    "slideshow": {
     "slide_type": ""
    },
    "tags": []
   },
   "outputs": [],
   "source": [
    "vec = np.array([1, 2])"
   ]
  },
  {
   "cell_type": "markdown",
   "metadata": {
    "editable": true,
    "slideshow": {
     "slide_type": ""
    },
    "tags": []
   },
   "source": [
    "Hvis vi vil se på vektoren, så kan vi skrive den ut med `print`. "
   ]
  },
  {
   "cell_type": "code",
   "execution_count": 5,
   "metadata": {
    "editable": true,
    "slideshow": {
     "slide_type": ""
    },
    "tags": []
   },
   "outputs": [
    {
     "name": "stdout",
     "output_type": "stream",
     "text": [
      "[1 2]\n"
     ]
    }
   ],
   "source": [
    "print(vec)"
   ]
  },
  {
   "cell_type": "markdown",
   "metadata": {
    "editable": true,
    "slideshow": {
     "slide_type": ""
    },
    "tags": []
   },
   "source": [
    "Hvis vi vil sjekke hvor mange elementer vektoren inneholder, så kan vi spørre etter shape egenskapen som i det tilfelle gir oss at den har lengde 2. "
   ]
  },
  {
   "cell_type": "code",
   "execution_count": 6,
   "metadata": {
    "editable": true,
    "slideshow": {
     "slide_type": ""
    },
    "tags": []
   },
   "outputs": [
    {
     "data": {
      "text/plain": [
       "(2,)"
      ]
     },
     "execution_count": 6,
     "metadata": {},
     "output_type": "execute_result"
    }
   ],
   "source": [
    "vec.shape"
   ]
  },
  {
   "cell_type": "markdown",
   "metadata": {
    "editable": true,
    "slideshow": {
     "slide_type": ""
    },
    "tags": []
   },
   "source": [
    "Vi kan også lage matrisser. Her lager vi identitetsmatrissen i to dimensjoner. "
   ]
  },
  {
   "cell_type": "code",
   "execution_count": 7,
   "metadata": {
    "editable": true,
    "slideshow": {
     "slide_type": ""
    },
    "tags": []
   },
   "outputs": [
    {
     "name": "stdout",
     "output_type": "stream",
     "text": [
      "[[1. 0.]\n",
      " [0. 1.]]\n"
     ]
    }
   ],
   "source": [
    "mat = np.eye(2)\n",
    "print(mat)"
   ]
  },
  {
   "cell_type": "markdown",
   "metadata": {
    "editable": true,
    "slideshow": {
     "slide_type": ""
    },
    "tags": []
   },
   "source": [
    "Når vi spør etter shape egenskapen får vi vite at matrissen har størrelsen 2 gang 2. "
   ]
  },
  {
   "cell_type": "code",
   "execution_count": 8,
   "metadata": {
    "editable": true,
    "slideshow": {
     "slide_type": ""
    },
    "tags": []
   },
   "outputs": [
    {
     "data": {
      "text/plain": [
       "(2, 2)"
      ]
     },
     "execution_count": 8,
     "metadata": {},
     "output_type": "execute_result"
    }
   ],
   "source": [
    "mat.shape"
   ]
  },
  {
   "cell_type": "markdown",
   "metadata": {
    "editable": true,
    "slideshow": {
     "slide_type": ""
    },
    "tags": []
   },
   "source": [
    "### Lage vektorer og matrisser\n",
    "\n",
    "Det finnes mange måter å lage en numpy array. Her viser vi noen eksempler."
   ]
  },
  {
   "cell_type": "markdown",
   "metadata": {
    "editable": true,
    "slideshow": {
     "slide_type": ""
    },
    "tags": []
   },
   "source": [
    "Numpy-funksjonen `arange` er det samme for numpy arrays som `range` er i standard python."
   ]
  },
  {
   "cell_type": "code",
   "execution_count": 9,
   "metadata": {
    "editable": true,
    "slideshow": {
     "slide_type": ""
    },
    "tags": []
   },
   "outputs": [
    {
     "data": {
      "text/plain": [
       "array([0, 1, 2, 3, 4])"
      ]
     },
     "execution_count": 9,
     "metadata": {},
     "output_type": "execute_result"
    }
   ],
   "source": [
    "np.arange(5)"
   ]
  },
  {
   "cell_type": "markdown",
   "metadata": {
    "editable": true,
    "slideshow": {
     "slide_type": ""
    },
    "tags": []
   },
   "source": [
    "Numpy-funksjonen `linspace` tillater at vi lager en array med fast start, slutt og en fast entall elementer som er jevnlig fordelt mellom starten og slutten."
   ]
  },
  {
   "cell_type": "code",
   "execution_count": 10,
   "metadata": {
    "editable": true,
    "slideshow": {
     "slide_type": ""
    },
    "tags": []
   },
   "outputs": [
    {
     "data": {
      "text/plain": [
       "array([2. , 2.5, 3. , 3.5, 4. ])"
      ]
     },
     "execution_count": 10,
     "metadata": {},
     "output_type": "execute_result"
    }
   ],
   "source": [
    "np.linspace(start=2, stop=4, num=5)"
   ]
  },
  {
   "cell_type": "markdown",
   "metadata": {
    "editable": true,
    "slideshow": {
     "slide_type": ""
    },
    "tags": []
   },
   "source": [
    "Vi kan bruke `ones` eller `zeros` for å lage en numpy array med bare enere eller bare nullere. "
   ]
  },
  {
   "cell_type": "code",
   "execution_count": 11,
   "metadata": {
    "editable": true,
    "slideshow": {
     "slide_type": ""
    },
    "tags": []
   },
   "outputs": [
    {
     "data": {
      "text/plain": [
       "array([1., 1., 1., 1., 1.])"
      ]
     },
     "execution_count": 11,
     "metadata": {},
     "output_type": "execute_result"
    }
   ],
   "source": [
    "np.ones(5)"
   ]
  },
  {
   "cell_type": "code",
   "execution_count": 12,
   "metadata": {
    "editable": true,
    "slideshow": {
     "slide_type": ""
    },
    "tags": []
   },
   "outputs": [
    {
     "data": {
      "text/plain": [
       "array([[0., 0., 0.],\n",
       "       [0., 0., 0.]])"
      ]
     },
     "execution_count": 12,
     "metadata": {},
     "output_type": "execute_result"
    }
   ],
   "source": [
    "np.zeros([2, 3])"
   ]
  },
  {
   "cell_type": "markdown",
   "metadata": {
    "editable": true,
    "slideshow": {
     "slide_type": ""
    },
    "tags": []
   },
   "source": [
    "Så finnes det også mange måter å lage tilfeldige tall på. Her er eksempler på hvordan å lage uniform og normal fordelte tall. Vi skall snakke om forskjellige fordelinger i {ref}`sec:sannsynlighet`. "
   ]
  },
  {
   "cell_type": "code",
   "execution_count": 13,
   "metadata": {
    "editable": true,
    "slideshow": {
     "slide_type": ""
    },
    "tags": []
   },
   "outputs": [
    {
     "data": {
      "text/plain": [
       "array([0.88584774, 0.76976432, 0.36713409, 1.9401761 , 0.1961863 ])"
      ]
     },
     "execution_count": 13,
     "metadata": {},
     "output_type": "execute_result"
    }
   ],
   "source": [
    "np.random.uniform(low=0, high=2, size=5)"
   ]
  },
  {
   "cell_type": "code",
   "execution_count": 14,
   "metadata": {
    "editable": true,
    "slideshow": {
     "slide_type": ""
    },
    "tags": []
   },
   "outputs": [
    {
     "data": {
      "text/plain": [
       "array([[-0.75431072, -1.32588708, -1.35449161, -0.14305506],\n",
       "       [ 0.41135839,  1.24574422,  0.51265912,  2.24111079]])"
      ]
     },
     "execution_count": 14,
     "metadata": {},
     "output_type": "execute_result"
    }
   ],
   "source": [
    "np.random.normal(loc=0, scale=1, size=(2, 4))"
   ]
  },
  {
   "cell_type": "markdown",
   "metadata": {
    "editable": true,
    "slideshow": {
     "slide_type": ""
    },
    "tags": []
   },
   "source": [
    "Data i numpy arrays kan ha forskjellige data type. Vi kan for eksempel lage integer, float eller boolean numpy arrays. Men hele numpy array har alltid samme data type. Her er noen eksempler på forskjellige datatyper: "
   ]
  },
  {
   "cell_type": "code",
   "execution_count": 15,
   "metadata": {
    "editable": true,
    "slideshow": {
     "slide_type": ""
    },
    "tags": []
   },
   "outputs": [
    {
     "data": {
      "text/plain": [
       "array([1, 1, 1, 1])"
      ]
     },
     "execution_count": 15,
     "metadata": {},
     "output_type": "execute_result"
    }
   ],
   "source": [
    "np.ones(4, dtype=int)"
   ]
  },
  {
   "cell_type": "code",
   "execution_count": 16,
   "metadata": {
    "editable": true,
    "slideshow": {
     "slide_type": ""
    },
    "tags": []
   },
   "outputs": [
    {
     "data": {
      "text/plain": [
       "array([1., 1., 1., 1.])"
      ]
     },
     "execution_count": 16,
     "metadata": {},
     "output_type": "execute_result"
    }
   ],
   "source": [
    "np.ones(4, dtype=float)"
   ]
  },
  {
   "cell_type": "code",
   "execution_count": 17,
   "metadata": {
    "editable": true,
    "slideshow": {
     "slide_type": ""
    },
    "tags": []
   },
   "outputs": [
    {
     "data": {
      "text/plain": [
       "array([ True,  True,  True,  True])"
      ]
     },
     "execution_count": 17,
     "metadata": {},
     "output_type": "execute_result"
    }
   ],
   "source": [
    "np.ones(4, dtype=bool)"
   ]
  },
  {
   "cell_type": "code",
   "execution_count": 18,
   "metadata": {
    "editable": true,
    "slideshow": {
     "slide_type": ""
    },
    "tags": []
   },
   "outputs": [
    {
     "data": {
      "text/plain": [
       "array(['1', '1', '1', '1'], dtype='<U1')"
      ]
     },
     "execution_count": 18,
     "metadata": {},
     "output_type": "execute_result"
    }
   ],
   "source": [
    "np.ones(4, dtype=str)"
   ]
  },
  {
   "cell_type": "markdown",
   "metadata": {
    "editable": true,
    "slideshow": {
     "slide_type": ""
    },
    "tags": []
   },
   "source": [
    "### Regning i numpy\n",
    "\n",
    "Vanligvis når vi regner med numpy arrays, så gjør vi elementvise regninger. Vi kan for eksempel addere to matrisser eller multiplisere en matrisse med et tall. "
   ]
  },
  {
   "cell_type": "code",
   "execution_count": 19,
   "metadata": {
    "editable": true,
    "slideshow": {
     "slide_type": ""
    },
    "tags": []
   },
   "outputs": [
    {
     "data": {
      "text/plain": [
       "array([[1, 2, 3],\n",
       "       [4, 5, 6]])"
      ]
     },
     "execution_count": 19,
     "metadata": {},
     "output_type": "execute_result"
    }
   ],
   "source": [
    "mat = np.arange(1, 7).reshape(2, 3)\n",
    "mat"
   ]
  },
  {
   "cell_type": "code",
   "execution_count": 20,
   "metadata": {
    "editable": true,
    "slideshow": {
     "slide_type": ""
    },
    "tags": []
   },
   "outputs": [
    {
     "data": {
      "text/plain": [
       "array([[ 2,  4,  6],\n",
       "       [ 8, 10, 12]])"
      ]
     },
     "execution_count": 20,
     "metadata": {},
     "output_type": "execute_result"
    }
   ],
   "source": [
    "mat + mat"
   ]
  },
  {
   "cell_type": "code",
   "execution_count": 21,
   "metadata": {
    "editable": true,
    "slideshow": {
     "slide_type": ""
    },
    "tags": []
   },
   "outputs": [
    {
     "data": {
      "text/plain": [
       "array([[ 3,  5,  7],\n",
       "       [ 9, 11, 13]])"
      ]
     },
     "execution_count": 21,
     "metadata": {},
     "output_type": "execute_result"
    }
   ],
   "source": [
    "2*mat + 1"
   ]
  },
  {
   "cell_type": "markdown",
   "metadata": {
    "editable": true,
    "slideshow": {
     "slide_type": ""
    },
    "tags": []
   },
   "source": [
    "Det finnes mange funksjoner som man kan bruke elementvis i numpy, for eksempel `sin`, `log`, `negative`:"
   ]
  },
  {
   "cell_type": "code",
   "execution_count": 22,
   "metadata": {
    "editable": true,
    "slideshow": {
     "slide_type": ""
    },
    "tags": []
   },
   "outputs": [
    {
     "data": {
      "text/plain": [
       "array([[ 0.84147098,  0.90929743,  0.14112001],\n",
       "       [-0.7568025 , -0.95892427, -0.2794155 ]])"
      ]
     },
     "execution_count": 22,
     "metadata": {},
     "output_type": "execute_result"
    }
   ],
   "source": [
    "np.sin(mat)"
   ]
  },
  {
   "cell_type": "code",
   "execution_count": 23,
   "metadata": {
    "editable": true,
    "slideshow": {
     "slide_type": ""
    },
    "tags": []
   },
   "outputs": [
    {
     "data": {
      "text/plain": [
       "array([[0.        , 0.69314718, 1.09861229],\n",
       "       [1.38629436, 1.60943791, 1.79175947]])"
      ]
     },
     "execution_count": 23,
     "metadata": {},
     "output_type": "execute_result"
    }
   ],
   "source": [
    "np.log(mat)"
   ]
  },
  {
   "cell_type": "code",
   "execution_count": 24,
   "metadata": {
    "editable": true,
    "slideshow": {
     "slide_type": ""
    },
    "tags": []
   },
   "outputs": [
    {
     "data": {
      "text/plain": [
       "array([[-1, -2, -3],\n",
       "       [-4, -5, -6]])"
      ]
     },
     "execution_count": 24,
     "metadata": {},
     "output_type": "execute_result"
    }
   ],
   "source": [
    "np.negative(mat)"
   ]
  },
  {
   "cell_type": "markdown",
   "metadata": {
    "editable": true,
    "slideshow": {
     "slide_type": ""
    },
    "tags": []
   },
   "source": [
    "Det finnes også mange muligheter for å oppsummere matriser, for eksempel `max`, `mean`, og `sum`. "
   ]
  },
  {
   "cell_type": "code",
   "execution_count": 25,
   "metadata": {
    "editable": true,
    "slideshow": {
     "slide_type": ""
    },
    "tags": []
   },
   "outputs": [
    {
     "data": {
      "text/plain": [
       "6"
      ]
     },
     "execution_count": 25,
     "metadata": {},
     "output_type": "execute_result"
    }
   ],
   "source": [
    "np.max(mat)"
   ]
  },
  {
   "cell_type": "code",
   "execution_count": 26,
   "metadata": {
    "editable": true,
    "slideshow": {
     "slide_type": ""
    },
    "tags": []
   },
   "outputs": [
    {
     "data": {
      "text/plain": [
       "3.5"
      ]
     },
     "execution_count": 26,
     "metadata": {},
     "output_type": "execute_result"
    }
   ],
   "source": [
    "np.mean(mat)"
   ]
  },
  {
   "cell_type": "code",
   "execution_count": 27,
   "metadata": {
    "editable": true,
    "slideshow": {
     "slide_type": ""
    },
    "tags": []
   },
   "outputs": [
    {
     "data": {
      "text/plain": [
       "21"
      ]
     },
     "execution_count": 27,
     "metadata": {},
     "output_type": "execute_result"
    }
   ],
   "source": [
    "np.sum(mat)"
   ]
  },
  {
   "cell_type": "markdown",
   "metadata": {
    "editable": true,
    "slideshow": {
     "slide_type": ""
    },
    "tags": []
   },
   "source": [
    "Hvis vi vil multiplisere en matrisse med en vektor, så må vi være litt forsiktige. Her har vi lagd en identitetsmatrisse `mat` og en vektor `vec`."
   ]
  },
  {
   "cell_type": "code",
   "execution_count": 28,
   "metadata": {
    "editable": true,
    "slideshow": {
     "slide_type": ""
    },
    "tags": []
   },
   "outputs": [],
   "source": [
    "mat = np.eye(2)\n",
    "vec = np.array([1, 2])"
   ]
  },
  {
   "cell_type": "markdown",
   "metadata": {
    "editable": true,
    "slideshow": {
     "slide_type": ""
    },
    "tags": []
   },
   "source": [
    "For å regne ut multiplikasjonen må vi bruke dot-metoden. Da får vi som forventet ut den opprinnelige vektoren v."
   ]
  },
  {
   "cell_type": "code",
   "execution_count": 29,
   "metadata": {
    "editable": true,
    "slideshow": {
     "slide_type": ""
    },
    "tags": []
   },
   "outputs": [
    {
     "data": {
      "text/plain": [
       "array([1., 2.])"
      ]
     },
     "execution_count": 29,
     "metadata": {},
     "output_type": "execute_result"
    }
   ],
   "source": [
    "mat.dot(vec)"
   ]
  },
  {
   "cell_type": "markdown",
   "metadata": {
    "editable": true,
    "slideshow": {
     "slide_type": ""
    },
    "tags": []
   },
   "source": [
    "Hvis vi bare bruker mutliplikasjonstegnet, så gjør vi elementvis multiplikasjon. Når dimensjonene ikke er like, så gjør numpy en kolonnevise multiplikasjon. Den første kolonnen av identitetsmatrissen blir altså multiplisert med 1 og den andre kolonnen med 2. "
   ]
  },
  {
   "cell_type": "code",
   "execution_count": 30,
   "metadata": {
    "editable": true,
    "slideshow": {
     "slide_type": ""
    },
    "tags": []
   },
   "outputs": [
    {
     "data": {
      "text/plain": [
       "array([[1., 0.],\n",
       "       [0., 2.]])"
      ]
     },
     "execution_count": 30,
     "metadata": {},
     "output_type": "execute_result"
    }
   ],
   "source": [
    "mat * vec"
   ]
  },
  {
   "cell_type": "markdown",
   "metadata": {
    "editable": true,
    "slideshow": {
     "slide_type": ""
    },
    "tags": []
   },
   "source": [
    "### Undermatrisser\n",
    "\n",
    "Når vi har en matrisse, så vil vi ofte bare se på en del eller undermatrisse av den. Det kan vi gjøre ved å spessifisere et enkelt element. Her viser vi matrisen `A` i rad én og kolonne to. Husk at vi begynner å nummerere med 0. "
   ]
  },
  {
   "cell_type": "code",
   "execution_count": 31,
   "metadata": {
    "editable": true,
    "slideshow": {
     "slide_type": ""
    },
    "tags": []
   },
   "outputs": [
    {
     "data": {
      "text/plain": [
       "array([[ 0,  1,  2,  3],\n",
       "       [ 4,  5,  6,  7],\n",
       "       [ 8,  9, 10, 11]])"
      ]
     },
     "execution_count": 31,
     "metadata": {},
     "output_type": "execute_result"
    }
   ],
   "source": [
    "A = np.arange(12).reshape(3, 4)\n",
    "A"
   ]
  },
  {
   "cell_type": "code",
   "execution_count": 32,
   "metadata": {
    "editable": true,
    "slideshow": {
     "slide_type": ""
    },
    "tags": []
   },
   "outputs": [
    {
     "data": {
      "text/plain": [
       "6"
      ]
     },
     "execution_count": 32,
     "metadata": {},
     "output_type": "execute_result"
    }
   ],
   "source": [
    "A[1, 2]"
   ]
  },
  {
   "cell_type": "markdown",
   "metadata": {
    "editable": true,
    "slideshow": {
     "slide_type": ""
    },
    "tags": []
   },
   "source": [
    "Vi kan også se på en hel rad eller kolonne ved å bruke kollon-tegnet på den andre dimensjonen. "
   ]
  },
  {
   "cell_type": "code",
   "execution_count": 33,
   "metadata": {
    "editable": true,
    "slideshow": {
     "slide_type": ""
    },
    "tags": []
   },
   "outputs": [
    {
     "data": {
      "text/plain": [
       "array([4, 5, 6, 7])"
      ]
     },
     "execution_count": 33,
     "metadata": {},
     "output_type": "execute_result"
    }
   ],
   "source": [
    "A[1, :]"
   ]
  },
  {
   "cell_type": "code",
   "execution_count": 34,
   "metadata": {
    "editable": true,
    "slideshow": {
     "slide_type": ""
    },
    "tags": []
   },
   "outputs": [
    {
     "data": {
      "text/plain": [
       "array([1, 5, 9])"
      ]
     },
     "execution_count": 34,
     "metadata": {},
     "output_type": "execute_result"
    }
   ],
   "source": [
    "A[:, 1]"
   ]
  },
  {
   "cell_type": "markdown",
   "metadata": {
    "editable": true,
    "slideshow": {
     "slide_type": ""
    },
    "tags": []
   },
   "source": [
    "Vi kan også angi lister for rad og kolonner og kan bruke en forkortet notasjon i kollon j, som tar med alle radene eller kolonnene fra og inkludert i til men ekskludert j. "
   ]
  },
  {
   "cell_type": "code",
   "execution_count": 35,
   "metadata": {
    "editable": true,
    "slideshow": {
     "slide_type": ""
    },
    "tags": []
   },
   "outputs": [
    {
     "data": {
      "text/plain": [
       "array([[ 0,  1,  2,  3],\n",
       "       [ 8,  9, 10, 11]])"
      ]
     },
     "execution_count": 35,
     "metadata": {},
     "output_type": "execute_result"
    }
   ],
   "source": [
    "A[[0, 2], :]"
   ]
  },
  {
   "cell_type": "code",
   "execution_count": 36,
   "metadata": {
    "editable": true,
    "slideshow": {
     "slide_type": ""
    },
    "tags": []
   },
   "outputs": [
    {
     "data": {
      "text/plain": [
       "array([[ 1,  2],\n",
       "       [ 5,  6],\n",
       "       [ 9, 10]])"
      ]
     },
     "execution_count": 36,
     "metadata": {},
     "output_type": "execute_result"
    }
   ],
   "source": [
    "A[:, 1:3]"
   ]
  },
  {
   "cell_type": "markdown",
   "metadata": {
    "editable": true,
    "slideshow": {
     "slide_type": ""
    },
    "tags": []
   },
   "source": [
    "### Kombinere data\n",
    "\n",
    "For å kombinere data, dan vi bruke `hstack` og `vstack` funksjonene. `hstack` setter data sammen horisontalt, fungerer altså kun hvis de to numpy arrays vi vil kombinere har samme antall rad. `vstack` setter data sammen vertikalt, fungerer altså hvis de to numpy arrays vi vil kombinere har samme antall kolonner. "
   ]
  },
  {
   "cell_type": "code",
   "execution_count": 37,
   "metadata": {
    "editable": true,
    "slideshow": {
     "slide_type": ""
    },
    "tags": []
   },
   "outputs": [],
   "source": [
    "A = np.eye(4)\n",
    "B = np.ones([3, 4])\n",
    "C = np.zeros([4, 2])"
   ]
  },
  {
   "cell_type": "code",
   "execution_count": 38,
   "metadata": {
    "editable": true,
    "slideshow": {
     "slide_type": ""
    },
    "tags": []
   },
   "outputs": [
    {
     "data": {
      "text/plain": [
       "array([[1., 0., 0., 0., 0., 0.],\n",
       "       [0., 1., 0., 0., 0., 0.],\n",
       "       [0., 0., 1., 0., 0., 0.],\n",
       "       [0., 0., 0., 1., 0., 0.]])"
      ]
     },
     "execution_count": 38,
     "metadata": {},
     "output_type": "execute_result"
    }
   ],
   "source": [
    "np.hstack((A, C))"
   ]
  },
  {
   "cell_type": "code",
   "execution_count": 39,
   "metadata": {
    "editable": true,
    "slideshow": {
     "slide_type": ""
    },
    "tags": []
   },
   "outputs": [
    {
     "data": {
      "text/plain": [
       "array([[1., 0., 0., 0.],\n",
       "       [0., 1., 0., 0.],\n",
       "       [0., 0., 1., 0.],\n",
       "       [0., 0., 0., 1.],\n",
       "       [1., 1., 1., 1.],\n",
       "       [1., 1., 1., 1.],\n",
       "       [1., 1., 1., 1.]])"
      ]
     },
     "execution_count": 39,
     "metadata": {},
     "output_type": "execute_result"
    }
   ],
   "source": [
    "np.vstack((A, B))"
   ]
  },
  {
   "cell_type": "markdown",
   "metadata": {
    "editable": true,
    "slideshow": {
     "slide_type": ""
    },
    "tags": []
   },
   "source": [
    "(sec:pandas)=\n",
    "## Pandas\n",
    "\n",
    "For å jobbe med tabulære data er det praktisk å bruke pandas. "
   ]
  },
  {
   "cell_type": "code",
   "execution_count": 40,
   "metadata": {},
   "outputs": [],
   "source": [
    "import pandas as pd"
   ]
  },
  {
   "cell_type": "markdown",
   "metadata": {
    "editable": true,
    "slideshow": {
     "slide_type": ""
    },
    "tags": []
   },
   "source": [
    "### Lese og beskrive data\n",
    "\n",
    "Vi begynner ved å lese inn data. Her bruker vi pandas sin `read_csv`-funksjonen. Det er kanskje den mest brukte måten å lese inn data. Men det finnes veldig mange forskjellige typer filer og for de fleste typer finnes det en pandas funksjon for å lese de inn, se i [dokumentasjonen](https://pandas.pydata.org/pandas-docs/stable/reference/io.html). Avhengig av hvordan data ser ut, så må vi også velge ut hvilke rad og kolonner vi vil lese inn, angi hvilke verdier som skal ansees som manglende verider, hva slags kodering tekstdata har, og mange andre egenskaper av data. Alt dette er mulig med de riktige argumentene til `read_csv`-funksjonen. "
   ]
  },
  {
   "cell_type": "code",
   "execution_count": 41,
   "metadata": {},
   "outputs": [],
   "source": [
    "df = pd.read_csv('data/informatikkemner_uib.csv')"
   ]
  },
  {
   "cell_type": "markdown",
   "metadata": {},
   "source": [
    "Her leste vi inn data om alle informatikkemner ved Universitetet i Bergen (tilstand 9. august 2024). La oss se litt på det datasettet."
   ]
  },
  {
   "cell_type": "code",
   "execution_count": 42,
   "metadata": {},
   "outputs": [
    {
     "data": {
      "text/plain": [
       "(101, 6)"
      ]
     },
     "execution_count": 42,
     "metadata": {},
     "output_type": "execute_result"
    }
   ],
   "source": [
    "df.shape"
   ]
  },
  {
   "cell_type": "markdown",
   "metadata": {},
   "source": [
    "Først ser vi igjen på shape. Datasettet har atlså 101 rad og 6 kolonner. \n",
    "\n",
    "La oss se litt på de første radene ved hjelp av head-metoden. Det er ofte nyttig for å få et inntrykk av data."
   ]
  },
  {
   "cell_type": "code",
   "execution_count": 43,
   "metadata": {},
   "outputs": [
    {
     "data": {
      "text/html": [
       "<div>\n",
       "<style scoped>\n",
       "    .dataframe tbody tr th:only-of-type {\n",
       "        vertical-align: middle;\n",
       "    }\n",
       "\n",
       "    .dataframe tbody tr th {\n",
       "        vertical-align: top;\n",
       "    }\n",
       "\n",
       "    .dataframe thead th {\n",
       "        text-align: right;\n",
       "    }\n",
       "</style>\n",
       "<table border=\"1\" class=\"dataframe\">\n",
       "  <thead>\n",
       "    <tr style=\"text-align: right;\">\n",
       "      <th></th>\n",
       "      <th>emnekode</th>\n",
       "      <th>tittel</th>\n",
       "      <th>semester</th>\n",
       "      <th>nivå</th>\n",
       "      <th>studiepoeng</th>\n",
       "      <th>vurdering</th>\n",
       "    </tr>\n",
       "  </thead>\n",
       "  <tbody>\n",
       "    <tr>\n",
       "      <th>0</th>\n",
       "      <td>BINF100</td>\n",
       "      <td>Grunnleggande bioinformatikk</td>\n",
       "      <td>Vår</td>\n",
       "      <td>Lågaregradsemne</td>\n",
       "      <td>10.0</td>\n",
       "      <td>Skriftleg skuleeksamen</td>\n",
       "    </tr>\n",
       "    <tr>\n",
       "      <th>1</th>\n",
       "      <td>BINF200</td>\n",
       "      <td>Analyse av biologiske sekvensar og strukturar</td>\n",
       "      <td>Haust</td>\n",
       "      <td>Lågaregradsemne</td>\n",
       "      <td>10.0</td>\n",
       "      <td>Mappevurdering</td>\n",
       "    </tr>\n",
       "    <tr>\n",
       "      <th>2</th>\n",
       "      <td>BINF201</td>\n",
       "      <td>Innføring i omics</td>\n",
       "      <td>Haust</td>\n",
       "      <td>Lågaregradsemne</td>\n",
       "      <td>10.0</td>\n",
       "      <td>Mappevurdering</td>\n",
       "    </tr>\n",
       "    <tr>\n",
       "      <th>3</th>\n",
       "      <td>BINF301</td>\n",
       "      <td>Genom-skala algoritmar</td>\n",
       "      <td>Vår</td>\n",
       "      <td>Masteremne</td>\n",
       "      <td>10.0</td>\n",
       "      <td>Skriftleg skuleeksamen</td>\n",
       "    </tr>\n",
       "    <tr>\n",
       "      <th>4</th>\n",
       "      <td>BINF305</td>\n",
       "      <td>Systembiologi</td>\n",
       "      <td>Haust</td>\n",
       "      <td>Masteremne</td>\n",
       "      <td>10.0</td>\n",
       "      <td>Mappevurdering</td>\n",
       "    </tr>\n",
       "  </tbody>\n",
       "</table>\n",
       "</div>"
      ],
      "text/plain": [
       "  emnekode                                         tittel semester  \\\n",
       "0  BINF100                   Grunnleggande bioinformatikk      Vår   \n",
       "1  BINF200  Analyse av biologiske sekvensar og strukturar    Haust   \n",
       "2  BINF201                              Innføring i omics    Haust   \n",
       "3  BINF301                         Genom-skala algoritmar      Vår   \n",
       "4  BINF305                                  Systembiologi    Haust   \n",
       "\n",
       "              nivå  studiepoeng                vurdering  \n",
       "0  Lågaregradsemne         10.0  Skriftleg skuleeksamen   \n",
       "1  Lågaregradsemne         10.0          Mappevurdering   \n",
       "2  Lågaregradsemne         10.0          Mappevurdering   \n",
       "3       Masteremne         10.0  Skriftleg skuleeksamen   \n",
       "4       Masteremne         10.0          Mappevurdering   "
      ]
     },
     "execution_count": 43,
     "metadata": {},
     "output_type": "execute_result"
    }
   ],
   "source": [
    "df.head()"
   ]
  },
  {
   "cell_type": "markdown",
   "metadata": {},
   "source": [
    "Her ser vi at det er informasjon om emnekode, tittel, hvilket semester det blir undervist i, hvilket nivå emnet er, hvor mange studiepoeng studentene for ved bestått emne og vurderingsformen. \n",
    "\n",
    "Så skal vi finne ut av hva slags data hver variabel inneholder. I motsettning til `numpy`, så kan `pandas` inneholde flere datatyper. Men hver kolonne består av bare én datatype. Egenskapen `dtypes` gir oss informasjon om data er integer, float eller noe annet. For tekstdata står det `object`. "
   ]
  },
  {
   "cell_type": "code",
   "execution_count": 44,
   "metadata": {},
   "outputs": [
    {
     "data": {
      "text/plain": [
       "emnekode        object\n",
       "tittel          object\n",
       "semester        object\n",
       "nivå            object\n",
       "studiepoeng    float64\n",
       "vurdering       object\n",
       "dtype: object"
      ]
     },
     "execution_count": 44,
     "metadata": {},
     "output_type": "execute_result"
    }
   ],
   "source": [
    "df.dtypes"
   ]
  },
  {
   "cell_type": "markdown",
   "metadata": {},
   "source": [
    "Vi kan bruke describe-metoden for å få litt statistikk om de data vi har lest inn. Her for vi antall målinger, gjennomsnitt, standardavvik, minimum, 25%-kvantil, median, 75%-kvantil og maksimum. Vi går gjennom de begrepene i kapitel {ref}`sec:statistikk`. "
   ]
  },
  {
   "cell_type": "code",
   "execution_count": 45,
   "metadata": {},
   "outputs": [
    {
     "data": {
      "text/html": [
       "<div>\n",
       "<style scoped>\n",
       "    .dataframe tbody tr th:only-of-type {\n",
       "        vertical-align: middle;\n",
       "    }\n",
       "\n",
       "    .dataframe tbody tr th {\n",
       "        vertical-align: top;\n",
       "    }\n",
       "\n",
       "    .dataframe thead th {\n",
       "        text-align: right;\n",
       "    }\n",
       "</style>\n",
       "<table border=\"1\" class=\"dataframe\">\n",
       "  <thead>\n",
       "    <tr style=\"text-align: right;\">\n",
       "      <th></th>\n",
       "      <th>studiepoeng</th>\n",
       "    </tr>\n",
       "  </thead>\n",
       "  <tbody>\n",
       "    <tr>\n",
       "      <th>count</th>\n",
       "      <td>101.000000</td>\n",
       "    </tr>\n",
       "    <tr>\n",
       "      <th>mean</th>\n",
       "      <td>10.153465</td>\n",
       "    </tr>\n",
       "    <tr>\n",
       "      <th>std</th>\n",
       "      <td>6.307037</td>\n",
       "    </tr>\n",
       "    <tr>\n",
       "      <th>min</th>\n",
       "      <td>0.000000</td>\n",
       "    </tr>\n",
       "    <tr>\n",
       "      <th>25%</th>\n",
       "      <td>10.000000</td>\n",
       "    </tr>\n",
       "    <tr>\n",
       "      <th>50%</th>\n",
       "      <td>10.000000</td>\n",
       "    </tr>\n",
       "    <tr>\n",
       "      <th>75%</th>\n",
       "      <td>10.000000</td>\n",
       "    </tr>\n",
       "    <tr>\n",
       "      <th>max</th>\n",
       "      <td>60.000000</td>\n",
       "    </tr>\n",
       "  </tbody>\n",
       "</table>\n",
       "</div>"
      ],
      "text/plain": [
       "       studiepoeng\n",
       "count   101.000000\n",
       "mean     10.153465\n",
       "std       6.307037\n",
       "min       0.000000\n",
       "25%      10.000000\n",
       "50%      10.000000\n",
       "75%      10.000000\n",
       "max      60.000000"
      ]
     },
     "execution_count": 45,
     "metadata": {},
     "output_type": "execute_result"
    }
   ],
   "source": [
    "df.describe()"
   ]
  },
  {
   "cell_type": "markdown",
   "metadata": {},
   "source": [
    "Men her ser vi bare på numeriske data. Vi kan også bruke describe-metoden for å se på kategoriske data, men i så fall må vi bruke opsjonen `include=object`. Da får vi selvfølgelig litt forskjellige informasjon fordi mange av de statistikkene ikke ville gitt mening. Vi får opp antall observasjoner, antall observasjoner som er forskjellige fra hverandre, den mest vanlige observasjonen og hvor vanlig den er. "
   ]
  },
  {
   "cell_type": "code",
   "execution_count": 46,
   "metadata": {},
   "outputs": [
    {
     "data": {
      "text/html": [
       "<div>\n",
       "<style scoped>\n",
       "    .dataframe tbody tr th:only-of-type {\n",
       "        vertical-align: middle;\n",
       "    }\n",
       "\n",
       "    .dataframe tbody tr th {\n",
       "        vertical-align: top;\n",
       "    }\n",
       "\n",
       "    .dataframe thead th {\n",
       "        text-align: right;\n",
       "    }\n",
       "</style>\n",
       "<table border=\"1\" class=\"dataframe\">\n",
       "  <thead>\n",
       "    <tr style=\"text-align: right;\">\n",
       "      <th></th>\n",
       "      <th>emnekode</th>\n",
       "      <th>tittel</th>\n",
       "      <th>semester</th>\n",
       "      <th>nivå</th>\n",
       "      <th>vurdering</th>\n",
       "    </tr>\n",
       "  </thead>\n",
       "  <tbody>\n",
       "    <tr>\n",
       "      <th>count</th>\n",
       "      <td>101</td>\n",
       "      <td>101</td>\n",
       "      <td>101</td>\n",
       "      <td>101</td>\n",
       "      <td>77</td>\n",
       "    </tr>\n",
       "    <tr>\n",
       "      <th>unique</th>\n",
       "      <td>101</td>\n",
       "      <td>85</td>\n",
       "      <td>4</td>\n",
       "      <td>3</td>\n",
       "      <td>14</td>\n",
       "    </tr>\n",
       "    <tr>\n",
       "      <th>top</th>\n",
       "      <td>BINF100</td>\n",
       "      <td>Videregåande emner/seminar i kryptografi</td>\n",
       "      <td>Vår</td>\n",
       "      <td>Masteremne</td>\n",
       "      <td>Skriftleg skuleeksamen</td>\n",
       "    </tr>\n",
       "    <tr>\n",
       "      <th>freq</th>\n",
       "      <td>1</td>\n",
       "      <td>3</td>\n",
       "      <td>35</td>\n",
       "      <td>60</td>\n",
       "      <td>30</td>\n",
       "    </tr>\n",
       "  </tbody>\n",
       "</table>\n",
       "</div>"
      ],
      "text/plain": [
       "       emnekode                                    tittel semester  \\\n",
       "count       101                                       101      101   \n",
       "unique      101                                        85        4   \n",
       "top     BINF100  Videregåande emner/seminar i kryptografi      Vår   \n",
       "freq          1                                         3       35   \n",
       "\n",
       "              nivå                vurdering  \n",
       "count          101                       77  \n",
       "unique           3                       14  \n",
       "top     Masteremne  Skriftleg skuleeksamen   \n",
       "freq            60                       30  "
      ]
     },
     "execution_count": 46,
     "metadata": {},
     "output_type": "execute_result"
    }
   ],
   "source": [
    "df.describe(include=object)"
   ]
  },
  {
   "cell_type": "markdown",
   "metadata": {},
   "source": [
    "En annen viktig ting å se på er hvor mye av data som mangler. Vi kan i utgangspunktet se det delvis på count i describe, men det er greit å rege det ut direkte. "
   ]
  },
  {
   "cell_type": "code",
   "execution_count": 47,
   "metadata": {},
   "outputs": [
    {
     "data": {
      "text/plain": [
       "emnekode        0\n",
       "tittel          0\n",
       "semester        0\n",
       "nivå            0\n",
       "studiepoeng     0\n",
       "vurdering      24\n",
       "dtype: int64"
      ]
     },
     "execution_count": 47,
     "metadata": {},
     "output_type": "execute_result"
    }
   ],
   "source": [
    "df.isnull().sum()"
   ]
  },
  {
   "cell_type": "markdown",
   "metadata": {},
   "source": [
    "### Undermengder av data"
   ]
  },
  {
   "cell_type": "markdown",
   "metadata": {},
   "source": [
    "Samme som i numpy array vil vi ofte se på undermengder av data. Her bruker vi `.loc` metoden. \n",
    "\n",
    "Vi kan velge ut kolonner ved å angi kolonnenavn. "
   ]
  },
  {
   "cell_type": "code",
   "execution_count": 48,
   "metadata": {},
   "outputs": [
    {
     "data": {
      "text/html": [
       "<div>\n",
       "<style scoped>\n",
       "    .dataframe tbody tr th:only-of-type {\n",
       "        vertical-align: middle;\n",
       "    }\n",
       "\n",
       "    .dataframe tbody tr th {\n",
       "        vertical-align: top;\n",
       "    }\n",
       "\n",
       "    .dataframe thead th {\n",
       "        text-align: right;\n",
       "    }\n",
       "</style>\n",
       "<table border=\"1\" class=\"dataframe\">\n",
       "  <thead>\n",
       "    <tr style=\"text-align: right;\">\n",
       "      <th></th>\n",
       "      <th>tittel</th>\n",
       "      <th>studiepoeng</th>\n",
       "    </tr>\n",
       "  </thead>\n",
       "  <tbody>\n",
       "    <tr>\n",
       "      <th>0</th>\n",
       "      <td>Grunnleggande bioinformatikk</td>\n",
       "      <td>10.0</td>\n",
       "    </tr>\n",
       "    <tr>\n",
       "      <th>1</th>\n",
       "      <td>Analyse av biologiske sekvensar og strukturar</td>\n",
       "      <td>10.0</td>\n",
       "    </tr>\n",
       "    <tr>\n",
       "      <th>2</th>\n",
       "      <td>Innføring i omics</td>\n",
       "      <td>10.0</td>\n",
       "    </tr>\n",
       "    <tr>\n",
       "      <th>3</th>\n",
       "      <td>Genom-skala algoritmar</td>\n",
       "      <td>10.0</td>\n",
       "    </tr>\n",
       "    <tr>\n",
       "      <th>4</th>\n",
       "      <td>Systembiologi</td>\n",
       "      <td>10.0</td>\n",
       "    </tr>\n",
       "    <tr>\n",
       "      <th>...</th>\n",
       "      <td>...</td>\n",
       "      <td>...</td>\n",
       "    </tr>\n",
       "    <tr>\n",
       "      <th>96</th>\n",
       "      <td>Metaheuristikkar</td>\n",
       "      <td>10.0</td>\n",
       "    </tr>\n",
       "    <tr>\n",
       "      <th>97</th>\n",
       "      <td>Metodar for analyse av forsyningskjeder</td>\n",
       "      <td>10.0</td>\n",
       "    </tr>\n",
       "    <tr>\n",
       "      <th>98</th>\n",
       "      <td>Diskrete strukturar</td>\n",
       "      <td>10.0</td>\n",
       "    </tr>\n",
       "    <tr>\n",
       "      <th>99</th>\n",
       "      <td>Geometrisk djup læring</td>\n",
       "      <td>3.0</td>\n",
       "    </tr>\n",
       "    <tr>\n",
       "      <th>100</th>\n",
       "      <td>Masteroppgåve i Programvareutvikling samarbeid...</td>\n",
       "      <td>0.0</td>\n",
       "    </tr>\n",
       "  </tbody>\n",
       "</table>\n",
       "<p>101 rows × 2 columns</p>\n",
       "</div>"
      ],
      "text/plain": [
       "                                                tittel  studiepoeng\n",
       "0                         Grunnleggande bioinformatikk         10.0\n",
       "1        Analyse av biologiske sekvensar og strukturar         10.0\n",
       "2                                    Innføring i omics         10.0\n",
       "3                               Genom-skala algoritmar         10.0\n",
       "4                                        Systembiologi         10.0\n",
       "..                                                 ...          ...\n",
       "96                                    Metaheuristikkar         10.0\n",
       "97             Metodar for analyse av forsyningskjeder         10.0\n",
       "98                                 Diskrete strukturar         10.0\n",
       "99                              Geometrisk djup læring          3.0\n",
       "100  Masteroppgåve i Programvareutvikling samarbeid...          0.0\n",
       "\n",
       "[101 rows x 2 columns]"
      ]
     },
     "execution_count": 48,
     "metadata": {},
     "output_type": "execute_result"
    }
   ],
   "source": [
    "df.loc[:, ['tittel', 'studiepoeng']]"
   ]
  },
  {
   "cell_type": "markdown",
   "metadata": {},
   "source": [
    "Vi kan da spesifisere rad på samme måten. "
   ]
  },
  {
   "cell_type": "code",
   "execution_count": 49,
   "metadata": {},
   "outputs": [
    {
     "data": {
      "text/html": [
       "<div>\n",
       "<style scoped>\n",
       "    .dataframe tbody tr th:only-of-type {\n",
       "        vertical-align: middle;\n",
       "    }\n",
       "\n",
       "    .dataframe tbody tr th {\n",
       "        vertical-align: top;\n",
       "    }\n",
       "\n",
       "    .dataframe thead th {\n",
       "        text-align: right;\n",
       "    }\n",
       "</style>\n",
       "<table border=\"1\" class=\"dataframe\">\n",
       "  <thead>\n",
       "    <tr style=\"text-align: right;\">\n",
       "      <th></th>\n",
       "      <th>emnekode</th>\n",
       "      <th>tittel</th>\n",
       "      <th>semester</th>\n",
       "      <th>nivå</th>\n",
       "      <th>studiepoeng</th>\n",
       "      <th>vurdering</th>\n",
       "    </tr>\n",
       "  </thead>\n",
       "  <tbody>\n",
       "    <tr>\n",
       "      <th>20</th>\n",
       "      <td>INF112</td>\n",
       "      <td>Innføring i systemutvikling</td>\n",
       "      <td>Vår</td>\n",
       "      <td>Lågaregradsemne</td>\n",
       "      <td>10.0</td>\n",
       "      <td>Skriftleg eksamen</td>\n",
       "    </tr>\n",
       "    <tr>\n",
       "      <th>40</th>\n",
       "      <td>INF234</td>\n",
       "      <td>Algoritmer</td>\n",
       "      <td>Haust</td>\n",
       "      <td>Masteremne</td>\n",
       "      <td>10.0</td>\n",
       "      <td>Skriftleg skuleeksamen</td>\n",
       "    </tr>\n",
       "    <tr>\n",
       "      <th>60</th>\n",
       "      <td>INF272</td>\n",
       "      <td>Ikkje-lineær optimering</td>\n",
       "      <td>Haust, Vår</td>\n",
       "      <td>Masteremne</td>\n",
       "      <td>10.0</td>\n",
       "      <td>NaN</td>\n",
       "    </tr>\n",
       "  </tbody>\n",
       "</table>\n",
       "</div>"
      ],
      "text/plain": [
       "   emnekode                       tittel    semester             nivå  \\\n",
       "20   INF112  Innføring i systemutvikling         Vår  Lågaregradsemne   \n",
       "40   INF234                   Algoritmer       Haust       Masteremne   \n",
       "60   INF272      Ikkje-lineær optimering  Haust, Vår       Masteremne   \n",
       "\n",
       "    studiepoeng                vurdering  \n",
       "20         10.0       Skriftleg eksamen   \n",
       "40         10.0  Skriftleg skuleeksamen   \n",
       "60         10.0                      NaN  "
      ]
     },
     "execution_count": 49,
     "metadata": {},
     "output_type": "execute_result"
    }
   ],
   "source": [
    "df.loc[[20, 40, 60], :]"
   ]
  },
  {
   "cell_type": "markdown",
   "metadata": {},
   "source": [
    "Men det er kanskje mer nyttig å angi en betingelse for radene. La oss for eksempel velge ut alle fag med tittel som starter på \"Innføring\".  "
   ]
  },
  {
   "cell_type": "code",
   "execution_count": 50,
   "metadata": {},
   "outputs": [
    {
     "data": {
      "text/html": [
       "<div>\n",
       "<style scoped>\n",
       "    .dataframe tbody tr th:only-of-type {\n",
       "        vertical-align: middle;\n",
       "    }\n",
       "\n",
       "    .dataframe tbody tr th {\n",
       "        vertical-align: top;\n",
       "    }\n",
       "\n",
       "    .dataframe thead th {\n",
       "        text-align: right;\n",
       "    }\n",
       "</style>\n",
       "<table border=\"1\" class=\"dataframe\">\n",
       "  <thead>\n",
       "    <tr style=\"text-align: right;\">\n",
       "      <th></th>\n",
       "      <th>emnekode</th>\n",
       "      <th>tittel</th>\n",
       "      <th>semester</th>\n",
       "      <th>nivå</th>\n",
       "      <th>studiepoeng</th>\n",
       "      <th>vurdering</th>\n",
       "    </tr>\n",
       "  </thead>\n",
       "  <tbody>\n",
       "    <tr>\n",
       "      <th>2</th>\n",
       "      <td>BINF201</td>\n",
       "      <td>Innføring i omics</td>\n",
       "      <td>Haust</td>\n",
       "      <td>Lågaregradsemne</td>\n",
       "      <td>10.0</td>\n",
       "      <td>Mappevurdering</td>\n",
       "    </tr>\n",
       "    <tr>\n",
       "      <th>17</th>\n",
       "      <td>INF100</td>\n",
       "      <td>Innføring i programmering</td>\n",
       "      <td>Haust, Vår</td>\n",
       "      <td>Lågaregradsemne</td>\n",
       "      <td>10.0</td>\n",
       "      <td>Skriftleg skuleeksamen (Ny eksamen)</td>\n",
       "    </tr>\n",
       "    <tr>\n",
       "      <th>20</th>\n",
       "      <td>INF112</td>\n",
       "      <td>Innføring i systemutvikling</td>\n",
       "      <td>Vår</td>\n",
       "      <td>Lågaregradsemne</td>\n",
       "      <td>10.0</td>\n",
       "      <td>Skriftleg eksamen</td>\n",
       "    </tr>\n",
       "    <tr>\n",
       "      <th>21</th>\n",
       "      <td>INF113</td>\n",
       "      <td>Innføring i operativsystem</td>\n",
       "      <td>Haust</td>\n",
       "      <td>Lågaregradsemne</td>\n",
       "      <td>10.0</td>\n",
       "      <td>Mappevurdering</td>\n",
       "    </tr>\n",
       "    <tr>\n",
       "      <th>27</th>\n",
       "      <td>INF161</td>\n",
       "      <td>Innføring i data science</td>\n",
       "      <td>Haust</td>\n",
       "      <td>Lågaregradsemne</td>\n",
       "      <td>10.0</td>\n",
       "      <td>Mappevurdering</td>\n",
       "    </tr>\n",
       "    <tr>\n",
       "      <th>37</th>\n",
       "      <td>INF225</td>\n",
       "      <td>Innføring i programomsetjing</td>\n",
       "      <td>Haust</td>\n",
       "      <td>Masteremne</td>\n",
       "      <td>10.0</td>\n",
       "      <td>Munnleg eksamen</td>\n",
       "    </tr>\n",
       "    <tr>\n",
       "      <th>39</th>\n",
       "      <td>INF227</td>\n",
       "      <td>Innføring i logikk</td>\n",
       "      <td>Vår</td>\n",
       "      <td>Masteremne</td>\n",
       "      <td>10.0</td>\n",
       "      <td>Skriftleg skuleeksamen</td>\n",
       "    </tr>\n",
       "    <tr>\n",
       "      <th>50</th>\n",
       "      <td>INF247</td>\n",
       "      <td>Innføring i kryptoanalyse av symmetriske chiffer</td>\n",
       "      <td>Vår</td>\n",
       "      <td>Masteremne</td>\n",
       "      <td>10.0</td>\n",
       "      <td>Skriftleg skuleeksamen</td>\n",
       "    </tr>\n",
       "    <tr>\n",
       "      <th>56</th>\n",
       "      <td>INF264</td>\n",
       "      <td>Innføring i maskinlæring</td>\n",
       "      <td>Haust</td>\n",
       "      <td>Masteremne</td>\n",
       "      <td>10.0</td>\n",
       "      <td>Mappevurdering</td>\n",
       "    </tr>\n",
       "    <tr>\n",
       "      <th>85</th>\n",
       "      <td>INF620</td>\n",
       "      <td>Innføring i programmering modul 1</td>\n",
       "      <td>Haust, Vår</td>\n",
       "      <td>Lågaregradsemne</td>\n",
       "      <td>5.0</td>\n",
       "      <td>NaN</td>\n",
       "    </tr>\n",
       "    <tr>\n",
       "      <th>86</th>\n",
       "      <td>INF621</td>\n",
       "      <td>Innføring i programmering modul 2</td>\n",
       "      <td>Haust, Vår</td>\n",
       "      <td>Lågaregradsemne</td>\n",
       "      <td>5.0</td>\n",
       "      <td>NaN</td>\n",
       "    </tr>\n",
       "    <tr>\n",
       "      <th>87</th>\n",
       "      <td>INF624</td>\n",
       "      <td>Innføring i datasikkerheit</td>\n",
       "      <td>Haust</td>\n",
       "      <td>Lågaregradsemne</td>\n",
       "      <td>5.0</td>\n",
       "      <td>NaN</td>\n",
       "    </tr>\n",
       "    <tr>\n",
       "      <th>88</th>\n",
       "      <td>INF626</td>\n",
       "      <td>Innføring i kunstig intelligens</td>\n",
       "      <td>Vår</td>\n",
       "      <td>Lågaregradsemne</td>\n",
       "      <td>5.0</td>\n",
       "      <td>NaN</td>\n",
       "    </tr>\n",
       "  </tbody>\n",
       "</table>\n",
       "</div>"
      ],
      "text/plain": [
       "   emnekode                                            tittel    semester  \\\n",
       "2   BINF201                                 Innføring i omics       Haust   \n",
       "17   INF100                         Innføring i programmering  Haust, Vår   \n",
       "20   INF112                       Innføring i systemutvikling         Vår   \n",
       "21   INF113                        Innføring i operativsystem       Haust   \n",
       "27   INF161                          Innføring i data science       Haust   \n",
       "37   INF225                      Innføring i programomsetjing       Haust   \n",
       "39   INF227                                Innføring i logikk         Vår   \n",
       "50   INF247  Innføring i kryptoanalyse av symmetriske chiffer         Vår   \n",
       "56   INF264                          Innføring i maskinlæring       Haust   \n",
       "85   INF620                 Innføring i programmering modul 1  Haust, Vår   \n",
       "86   INF621                 Innføring i programmering modul 2  Haust, Vår   \n",
       "87   INF624                        Innføring i datasikkerheit       Haust   \n",
       "88   INF626                   Innføring i kunstig intelligens         Vår   \n",
       "\n",
       "               nivå  studiepoeng                            vurdering  \n",
       "2   Lågaregradsemne         10.0                      Mappevurdering   \n",
       "17  Lågaregradsemne         10.0  Skriftleg skuleeksamen (Ny eksamen)  \n",
       "20  Lågaregradsemne         10.0                   Skriftleg eksamen   \n",
       "21  Lågaregradsemne         10.0                      Mappevurdering   \n",
       "27  Lågaregradsemne         10.0                      Mappevurdering   \n",
       "37       Masteremne         10.0                     Munnleg eksamen   \n",
       "39       Masteremne         10.0              Skriftleg skuleeksamen   \n",
       "50       Masteremne         10.0              Skriftleg skuleeksamen   \n",
       "56       Masteremne         10.0                      Mappevurdering   \n",
       "85  Lågaregradsemne          5.0                                  NaN  \n",
       "86  Lågaregradsemne          5.0                                  NaN  \n",
       "87  Lågaregradsemne          5.0                                  NaN  \n",
       "88  Lågaregradsemne          5.0                                  NaN  "
      ]
     },
     "execution_count": 50,
     "metadata": {},
     "output_type": "execute_result"
    }
   ],
   "source": [
    "df.loc[df.loc[:, 'tittel'].str.startswith('Innføring'), :]"
   ]
  },
  {
   "cell_type": "markdown",
   "metadata": {},
   "source": [
    "Legg merke til at vi først lager en boolsk variabel og så bruker vi den til å indeksere. Her ser vi først på dette mellomsteget. "
   ]
  },
  {
   "cell_type": "code",
   "execution_count": 51,
   "metadata": {},
   "outputs": [
    {
     "data": {
      "text/plain": [
       "0      False\n",
       "1      False\n",
       "2       True\n",
       "3      False\n",
       "4      False\n",
       "       ...  \n",
       "96     False\n",
       "97     False\n",
       "98     False\n",
       "99     False\n",
       "100    False\n",
       "Name: tittel, Length: 101, dtype: bool"
      ]
     },
     "execution_count": 51,
     "metadata": {},
     "output_type": "execute_result"
    }
   ],
   "source": [
    "inforings_emner = df.loc[:, 'tittel'].str.startswith('Innføring')\n",
    "inforings_emner"
   ]
  },
  {
   "cell_type": "markdown",
   "metadata": {},
   "source": [
    "Så kan vi enkelt bruke denne boolsken variabelen til å indeksere datasettet vårt. "
   ]
  },
  {
   "cell_type": "code",
   "execution_count": 52,
   "metadata": {},
   "outputs": [
    {
     "data": {
      "text/html": [
       "<div>\n",
       "<style scoped>\n",
       "    .dataframe tbody tr th:only-of-type {\n",
       "        vertical-align: middle;\n",
       "    }\n",
       "\n",
       "    .dataframe tbody tr th {\n",
       "        vertical-align: top;\n",
       "    }\n",
       "\n",
       "    .dataframe thead th {\n",
       "        text-align: right;\n",
       "    }\n",
       "</style>\n",
       "<table border=\"1\" class=\"dataframe\">\n",
       "  <thead>\n",
       "    <tr style=\"text-align: right;\">\n",
       "      <th></th>\n",
       "      <th>emnekode</th>\n",
       "      <th>tittel</th>\n",
       "      <th>semester</th>\n",
       "      <th>nivå</th>\n",
       "      <th>studiepoeng</th>\n",
       "      <th>vurdering</th>\n",
       "    </tr>\n",
       "  </thead>\n",
       "  <tbody>\n",
       "    <tr>\n",
       "      <th>2</th>\n",
       "      <td>BINF201</td>\n",
       "      <td>Innføring i omics</td>\n",
       "      <td>Haust</td>\n",
       "      <td>Lågaregradsemne</td>\n",
       "      <td>10.0</td>\n",
       "      <td>Mappevurdering</td>\n",
       "    </tr>\n",
       "    <tr>\n",
       "      <th>17</th>\n",
       "      <td>INF100</td>\n",
       "      <td>Innføring i programmering</td>\n",
       "      <td>Haust, Vår</td>\n",
       "      <td>Lågaregradsemne</td>\n",
       "      <td>10.0</td>\n",
       "      <td>Skriftleg skuleeksamen (Ny eksamen)</td>\n",
       "    </tr>\n",
       "    <tr>\n",
       "      <th>20</th>\n",
       "      <td>INF112</td>\n",
       "      <td>Innføring i systemutvikling</td>\n",
       "      <td>Vår</td>\n",
       "      <td>Lågaregradsemne</td>\n",
       "      <td>10.0</td>\n",
       "      <td>Skriftleg eksamen</td>\n",
       "    </tr>\n",
       "    <tr>\n",
       "      <th>21</th>\n",
       "      <td>INF113</td>\n",
       "      <td>Innføring i operativsystem</td>\n",
       "      <td>Haust</td>\n",
       "      <td>Lågaregradsemne</td>\n",
       "      <td>10.0</td>\n",
       "      <td>Mappevurdering</td>\n",
       "    </tr>\n",
       "    <tr>\n",
       "      <th>27</th>\n",
       "      <td>INF161</td>\n",
       "      <td>Innføring i data science</td>\n",
       "      <td>Haust</td>\n",
       "      <td>Lågaregradsemne</td>\n",
       "      <td>10.0</td>\n",
       "      <td>Mappevurdering</td>\n",
       "    </tr>\n",
       "    <tr>\n",
       "      <th>37</th>\n",
       "      <td>INF225</td>\n",
       "      <td>Innføring i programomsetjing</td>\n",
       "      <td>Haust</td>\n",
       "      <td>Masteremne</td>\n",
       "      <td>10.0</td>\n",
       "      <td>Munnleg eksamen</td>\n",
       "    </tr>\n",
       "    <tr>\n",
       "      <th>39</th>\n",
       "      <td>INF227</td>\n",
       "      <td>Innføring i logikk</td>\n",
       "      <td>Vår</td>\n",
       "      <td>Masteremne</td>\n",
       "      <td>10.0</td>\n",
       "      <td>Skriftleg skuleeksamen</td>\n",
       "    </tr>\n",
       "    <tr>\n",
       "      <th>50</th>\n",
       "      <td>INF247</td>\n",
       "      <td>Innføring i kryptoanalyse av symmetriske chiffer</td>\n",
       "      <td>Vår</td>\n",
       "      <td>Masteremne</td>\n",
       "      <td>10.0</td>\n",
       "      <td>Skriftleg skuleeksamen</td>\n",
       "    </tr>\n",
       "    <tr>\n",
       "      <th>56</th>\n",
       "      <td>INF264</td>\n",
       "      <td>Innføring i maskinlæring</td>\n",
       "      <td>Haust</td>\n",
       "      <td>Masteremne</td>\n",
       "      <td>10.0</td>\n",
       "      <td>Mappevurdering</td>\n",
       "    </tr>\n",
       "    <tr>\n",
       "      <th>85</th>\n",
       "      <td>INF620</td>\n",
       "      <td>Innføring i programmering modul 1</td>\n",
       "      <td>Haust, Vår</td>\n",
       "      <td>Lågaregradsemne</td>\n",
       "      <td>5.0</td>\n",
       "      <td>NaN</td>\n",
       "    </tr>\n",
       "    <tr>\n",
       "      <th>86</th>\n",
       "      <td>INF621</td>\n",
       "      <td>Innføring i programmering modul 2</td>\n",
       "      <td>Haust, Vår</td>\n",
       "      <td>Lågaregradsemne</td>\n",
       "      <td>5.0</td>\n",
       "      <td>NaN</td>\n",
       "    </tr>\n",
       "    <tr>\n",
       "      <th>87</th>\n",
       "      <td>INF624</td>\n",
       "      <td>Innføring i datasikkerheit</td>\n",
       "      <td>Haust</td>\n",
       "      <td>Lågaregradsemne</td>\n",
       "      <td>5.0</td>\n",
       "      <td>NaN</td>\n",
       "    </tr>\n",
       "    <tr>\n",
       "      <th>88</th>\n",
       "      <td>INF626</td>\n",
       "      <td>Innføring i kunstig intelligens</td>\n",
       "      <td>Vår</td>\n",
       "      <td>Lågaregradsemne</td>\n",
       "      <td>5.0</td>\n",
       "      <td>NaN</td>\n",
       "    </tr>\n",
       "  </tbody>\n",
       "</table>\n",
       "</div>"
      ],
      "text/plain": [
       "   emnekode                                            tittel    semester  \\\n",
       "2   BINF201                                 Innføring i omics       Haust   \n",
       "17   INF100                         Innføring i programmering  Haust, Vår   \n",
       "20   INF112                       Innføring i systemutvikling         Vår   \n",
       "21   INF113                        Innføring i operativsystem       Haust   \n",
       "27   INF161                          Innføring i data science       Haust   \n",
       "37   INF225                      Innføring i programomsetjing       Haust   \n",
       "39   INF227                                Innføring i logikk         Vår   \n",
       "50   INF247  Innføring i kryptoanalyse av symmetriske chiffer         Vår   \n",
       "56   INF264                          Innføring i maskinlæring       Haust   \n",
       "85   INF620                 Innføring i programmering modul 1  Haust, Vår   \n",
       "86   INF621                 Innføring i programmering modul 2  Haust, Vår   \n",
       "87   INF624                        Innføring i datasikkerheit       Haust   \n",
       "88   INF626                   Innføring i kunstig intelligens         Vår   \n",
       "\n",
       "               nivå  studiepoeng                            vurdering  \n",
       "2   Lågaregradsemne         10.0                      Mappevurdering   \n",
       "17  Lågaregradsemne         10.0  Skriftleg skuleeksamen (Ny eksamen)  \n",
       "20  Lågaregradsemne         10.0                   Skriftleg eksamen   \n",
       "21  Lågaregradsemne         10.0                      Mappevurdering   \n",
       "27  Lågaregradsemne         10.0                      Mappevurdering   \n",
       "37       Masteremne         10.0                     Munnleg eksamen   \n",
       "39       Masteremne         10.0              Skriftleg skuleeksamen   \n",
       "50       Masteremne         10.0              Skriftleg skuleeksamen   \n",
       "56       Masteremne         10.0                      Mappevurdering   \n",
       "85  Lågaregradsemne          5.0                                  NaN  \n",
       "86  Lågaregradsemne          5.0                                  NaN  \n",
       "87  Lågaregradsemne          5.0                                  NaN  \n",
       "88  Lågaregradsemne          5.0                                  NaN  "
      ]
     },
     "execution_count": 52,
     "metadata": {},
     "output_type": "execute_result"
    }
   ],
   "source": [
    "df.loc[inforings_emner, :]"
   ]
  },
  {
   "cell_type": "markdown",
   "metadata": {},
   "source": [
    "### Databeskrivelse med pandas "
   ]
  },
  {
   "cell_type": "markdown",
   "metadata": {},
   "source": [
    "Typiske ting vi kan gjøre med pandas er å se på beskrivende statistikk, som `mean`, `max` for numeriske variabler. "
   ]
  },
  {
   "cell_type": "code",
   "execution_count": 53,
   "metadata": {},
   "outputs": [
    {
     "data": {
      "text/plain": [
       "10.153465346534654"
      ]
     },
     "execution_count": 53,
     "metadata": {},
     "output_type": "execute_result"
    }
   ],
   "source": [
    "df.loc[:, 'studiepoeng'].mean()"
   ]
  },
  {
   "cell_type": "code",
   "execution_count": 54,
   "metadata": {},
   "outputs": [
    {
     "data": {
      "text/plain": [
       "60.0"
      ]
     },
     "execution_count": 54,
     "metadata": {},
     "output_type": "execute_result"
    }
   ],
   "source": [
    "df.loc[:, 'studiepoeng'].max()"
   ]
  },
  {
   "cell_type": "markdown",
   "metadata": {},
   "source": [
    "Vi kan også for eksempel se på antall forskjellige verdier. "
   ]
  },
  {
   "cell_type": "code",
   "execution_count": 55,
   "metadata": {},
   "outputs": [
    {
     "data": {
      "text/plain": [
       "emnekode       101\n",
       "tittel          85\n",
       "semester         4\n",
       "nivå             3\n",
       "studiepoeng      8\n",
       "vurdering       14\n",
       "dtype: int64"
      ]
     },
     "execution_count": 55,
     "metadata": {},
     "output_type": "execute_result"
    }
   ],
   "source": [
    "df.nunique()"
   ]
  },
  {
   "cell_type": "markdown",
   "metadata": {},
   "source": [
    "For enkle variabler er det også nyttig å se på antall ganger hver verdi forekommer."
   ]
  },
  {
   "cell_type": "code",
   "execution_count": 56,
   "metadata": {},
   "outputs": [
    {
     "data": {
      "text/plain": [
       "studiepoeng\n",
       "10.0    84\n",
       "5.0      6\n",
       "2.5      5\n",
       "30.0     2\n",
       "20.0     1\n",
       "60.0     1\n",
       "3.0      1\n",
       "0.0      1\n",
       "Name: count, dtype: int64"
      ]
     },
     "execution_count": 56,
     "metadata": {},
     "output_type": "execute_result"
    }
   ],
   "source": [
    "df.loc[:, 'studiepoeng'].value_counts()"
   ]
  },
  {
   "cell_type": "markdown",
   "metadata": {},
   "source": [
    "Ofte er det også nyttig å gruppere etter en variabel og gjøre utregninger per gruppe. Her ser vi for eksempel på hvor mange unique verdier det er for alle variabler avhengig av semesteret. "
   ]
  },
  {
   "cell_type": "code",
   "execution_count": 57,
   "metadata": {},
   "outputs": [
    {
     "data": {
      "text/html": [
       "<div>\n",
       "<style scoped>\n",
       "    .dataframe tbody tr th:only-of-type {\n",
       "        vertical-align: middle;\n",
       "    }\n",
       "\n",
       "    .dataframe tbody tr th {\n",
       "        vertical-align: top;\n",
       "    }\n",
       "\n",
       "    .dataframe thead th {\n",
       "        text-align: right;\n",
       "    }\n",
       "</style>\n",
       "<table border=\"1\" class=\"dataframe\">\n",
       "  <thead>\n",
       "    <tr style=\"text-align: right;\">\n",
       "      <th></th>\n",
       "      <th>emnekode</th>\n",
       "      <th>tittel</th>\n",
       "      <th>nivå</th>\n",
       "      <th>studiepoeng</th>\n",
       "      <th>vurdering</th>\n",
       "    </tr>\n",
       "    <tr>\n",
       "      <th>semester</th>\n",
       "      <th></th>\n",
       "      <th></th>\n",
       "      <th></th>\n",
       "      <th></th>\n",
       "      <th></th>\n",
       "    </tr>\n",
       "  </thead>\n",
       "  <tbody>\n",
       "    <tr>\n",
       "      <th>Haust</th>\n",
       "      <td>31</td>\n",
       "      <td>30</td>\n",
       "      <td>3</td>\n",
       "      <td>2</td>\n",
       "      <td>4</td>\n",
       "    </tr>\n",
       "    <tr>\n",
       "      <th>Haust, Vår</th>\n",
       "      <td>31</td>\n",
       "      <td>25</td>\n",
       "      <td>3</td>\n",
       "      <td>6</td>\n",
       "      <td>9</td>\n",
       "    </tr>\n",
       "    <tr>\n",
       "      <th>Uvisst</th>\n",
       "      <td>4</td>\n",
       "      <td>3</td>\n",
       "      <td>2</td>\n",
       "      <td>3</td>\n",
       "      <td>0</td>\n",
       "    </tr>\n",
       "    <tr>\n",
       "      <th>Vår</th>\n",
       "      <td>35</td>\n",
       "      <td>31</td>\n",
       "      <td>3</td>\n",
       "      <td>4</td>\n",
       "      <td>6</td>\n",
       "    </tr>\n",
       "  </tbody>\n",
       "</table>\n",
       "</div>"
      ],
      "text/plain": [
       "            emnekode  tittel  nivå  studiepoeng  vurdering\n",
       "semester                                                  \n",
       "Haust             31      30     3            2          4\n",
       "Haust, Vår        31      25     3            6          9\n",
       "Uvisst             4       3     2            3          0\n",
       "Vår               35      31     3            4          6"
      ]
     },
     "execution_count": 57,
     "metadata": {},
     "output_type": "execute_result"
    }
   ],
   "source": [
    "df.groupby(\"semester\").nunique()"
   ]
  },
  {
   "cell_type": "markdown",
   "metadata": {
    "editable": true,
    "slideshow": {
     "slide_type": ""
    },
    "tags": []
   },
   "source": [
    "### Kombinere data\n",
    "\n",
    "Først trenger vi et datasett som kan kombineres med dataene vi har. Vi kan også lage data frames selv. Den vanligste måten er ved bruk av pandas DataFrame init-metoden og en dictionary som inneholder kolonnene. La oss lage et dataframes som inneholder noen av undervisere for høst 2024. "
   ]
  },
  {
   "cell_type": "code",
   "execution_count": 58,
   "metadata": {},
   "outputs": [
    {
     "data": {
      "text/html": [
       "<div>\n",
       "<style scoped>\n",
       "    .dataframe tbody tr th:only-of-type {\n",
       "        vertical-align: middle;\n",
       "    }\n",
       "\n",
       "    .dataframe tbody tr th {\n",
       "        vertical-align: top;\n",
       "    }\n",
       "\n",
       "    .dataframe thead th {\n",
       "        text-align: right;\n",
       "    }\n",
       "</style>\n",
       "<table border=\"1\" class=\"dataframe\">\n",
       "  <thead>\n",
       "    <tr style=\"text-align: right;\">\n",
       "      <th></th>\n",
       "      <th>emne</th>\n",
       "      <th>undervisere</th>\n",
       "    </tr>\n",
       "  </thead>\n",
       "  <tbody>\n",
       "    <tr>\n",
       "      <th>0</th>\n",
       "      <td>INF161</td>\n",
       "      <td>Blaser</td>\n",
       "    </tr>\n",
       "    <tr>\n",
       "      <th>1</th>\n",
       "      <td>INF264</td>\n",
       "      <td>Malde</td>\n",
       "    </tr>\n",
       "    <tr>\n",
       "      <th>2</th>\n",
       "      <td>AIKI100</td>\n",
       "      <td>Pedersen</td>\n",
       "    </tr>\n",
       "  </tbody>\n",
       "</table>\n",
       "</div>"
      ],
      "text/plain": [
       "      emne undervisere\n",
       "0   INF161      Blaser\n",
       "1   INF264       Malde\n",
       "2  AIKI100    Pedersen"
      ]
     },
     "execution_count": 58,
     "metadata": {},
     "output_type": "execute_result"
    }
   ],
   "source": [
    "df_undervisere_2024 = pd.DataFrame(dict(emne=['INF161', 'INF264', 'AIKI100'], undervisere=['Blaser', 'Malde', 'Pedersen'])) \n",
    "df_undervisere_2024 "
   ]
  },
  {
   "cell_type": "markdown",
   "metadata": {},
   "source": [
    "Nå skal vi kombinere de to dataset. Først må vi sette den kolonnen som skal være lik som indeks-kolonnen. Det gjør at vi kan nå bruke id direkte for å få data rad med denne id-en. "
   ]
  },
  {
   "cell_type": "code",
   "execution_count": 59,
   "metadata": {},
   "outputs": [],
   "source": [
    "df_undervisere_2024.set_index('emne', inplace=True)\n",
    "df.set_index('emnekode', inplace=True)"
   ]
  },
  {
   "cell_type": "markdown",
   "metadata": {
    "editable": true,
    "slideshow": {
     "slide_type": ""
    },
    "tags": []
   },
   "source": [
    "Nå er vi klar til å kombinere data. \n",
    "\n",
    "For å kombinere data må vi først spesifisere de to dataset. Så må vi angi hva å gjøre når de to datasett ikke inneholder de samme studentene. Ved bruk av 'right', så får vi med alle emner der vi har informasjon om undervisere. "
   ]
  },
  {
   "cell_type": "code",
   "execution_count": 60,
   "metadata": {},
   "outputs": [
    {
     "data": {
      "text/html": [
       "<div>\n",
       "<style scoped>\n",
       "    .dataframe tbody tr th:only-of-type {\n",
       "        vertical-align: middle;\n",
       "    }\n",
       "\n",
       "    .dataframe tbody tr th {\n",
       "        vertical-align: top;\n",
       "    }\n",
       "\n",
       "    .dataframe thead th {\n",
       "        text-align: right;\n",
       "    }\n",
       "</style>\n",
       "<table border=\"1\" class=\"dataframe\">\n",
       "  <thead>\n",
       "    <tr style=\"text-align: right;\">\n",
       "      <th></th>\n",
       "      <th>tittel</th>\n",
       "      <th>semester</th>\n",
       "      <th>nivå</th>\n",
       "      <th>studiepoeng</th>\n",
       "      <th>vurdering</th>\n",
       "      <th>undervisere</th>\n",
       "    </tr>\n",
       "    <tr>\n",
       "      <th>emne</th>\n",
       "      <th></th>\n",
       "      <th></th>\n",
       "      <th></th>\n",
       "      <th></th>\n",
       "      <th></th>\n",
       "      <th></th>\n",
       "    </tr>\n",
       "  </thead>\n",
       "  <tbody>\n",
       "    <tr>\n",
       "      <th>INF161</th>\n",
       "      <td>Innføring i data science</td>\n",
       "      <td>Haust</td>\n",
       "      <td>Lågaregradsemne</td>\n",
       "      <td>10.0</td>\n",
       "      <td>Mappevurdering</td>\n",
       "      <td>Blaser</td>\n",
       "    </tr>\n",
       "    <tr>\n",
       "      <th>INF264</th>\n",
       "      <td>Innføring i maskinlæring</td>\n",
       "      <td>Haust</td>\n",
       "      <td>Masteremne</td>\n",
       "      <td>10.0</td>\n",
       "      <td>Mappevurdering</td>\n",
       "      <td>Malde</td>\n",
       "    </tr>\n",
       "    <tr>\n",
       "      <th>AIKI100</th>\n",
       "      <td>NaN</td>\n",
       "      <td>NaN</td>\n",
       "      <td>NaN</td>\n",
       "      <td>NaN</td>\n",
       "      <td>NaN</td>\n",
       "      <td>Pedersen</td>\n",
       "    </tr>\n",
       "  </tbody>\n",
       "</table>\n",
       "</div>"
      ],
      "text/plain": [
       "                           tittel semester             nivå  studiepoeng  \\\n",
       "emne                                                                       \n",
       "INF161   Innføring i data science    Haust  Lågaregradsemne         10.0   \n",
       "INF264   Innføring i maskinlæring    Haust       Masteremne         10.0   \n",
       "AIKI100                       NaN      NaN              NaN          NaN   \n",
       "\n",
       "               vurdering undervisere  \n",
       "emne                                  \n",
       "INF161   Mappevurdering       Blaser  \n",
       "INF264   Mappevurdering        Malde  \n",
       "AIKI100              NaN    Pedersen  "
      ]
     },
     "execution_count": 60,
     "metadata": {},
     "output_type": "execute_result"
    }
   ],
   "source": [
    "df.join(df_undervisere_2024, how='right')"
   ]
  },
  {
   "cell_type": "markdown",
   "metadata": {},
   "source": [
    "Hvis vi bruker 'inner' i stedet, så får vi bare informasjon om de radene som er med i begge datasett. "
   ]
  },
  {
   "cell_type": "code",
   "execution_count": 61,
   "metadata": {},
   "outputs": [
    {
     "data": {
      "text/html": [
       "<div>\n",
       "<style scoped>\n",
       "    .dataframe tbody tr th:only-of-type {\n",
       "        vertical-align: middle;\n",
       "    }\n",
       "\n",
       "    .dataframe tbody tr th {\n",
       "        vertical-align: top;\n",
       "    }\n",
       "\n",
       "    .dataframe thead th {\n",
       "        text-align: right;\n",
       "    }\n",
       "</style>\n",
       "<table border=\"1\" class=\"dataframe\">\n",
       "  <thead>\n",
       "    <tr style=\"text-align: right;\">\n",
       "      <th></th>\n",
       "      <th>tittel</th>\n",
       "      <th>semester</th>\n",
       "      <th>nivå</th>\n",
       "      <th>studiepoeng</th>\n",
       "      <th>vurdering</th>\n",
       "      <th>undervisere</th>\n",
       "    </tr>\n",
       "  </thead>\n",
       "  <tbody>\n",
       "    <tr>\n",
       "      <th>INF161</th>\n",
       "      <td>Innføring i data science</td>\n",
       "      <td>Haust</td>\n",
       "      <td>Lågaregradsemne</td>\n",
       "      <td>10.0</td>\n",
       "      <td>Mappevurdering</td>\n",
       "      <td>Blaser</td>\n",
       "    </tr>\n",
       "    <tr>\n",
       "      <th>INF264</th>\n",
       "      <td>Innføring i maskinlæring</td>\n",
       "      <td>Haust</td>\n",
       "      <td>Masteremne</td>\n",
       "      <td>10.0</td>\n",
       "      <td>Mappevurdering</td>\n",
       "      <td>Malde</td>\n",
       "    </tr>\n",
       "  </tbody>\n",
       "</table>\n",
       "</div>"
      ],
      "text/plain": [
       "                          tittel semester             nivå  studiepoeng  \\\n",
       "INF161  Innføring i data science    Haust  Lågaregradsemne         10.0   \n",
       "INF264  Innføring i maskinlæring    Haust       Masteremne         10.0   \n",
       "\n",
       "              vurdering undervisere  \n",
       "INF161  Mappevurdering       Blaser  \n",
       "INF264  Mappevurdering        Malde  "
      ]
     },
     "execution_count": 61,
     "metadata": {},
     "output_type": "execute_result"
    }
   ],
   "source": [
    "df.join(df_undervisere_2024, how='inner')"
   ]
  },
  {
   "cell_type": "markdown",
   "metadata": {
    "editable": true,
    "slideshow": {
     "slide_type": ""
    },
    "tags": []
   },
   "source": [
    "Vi kan også bruke 'outer' og 'left'. Se selv hva som skjer i så fall. Hvilken av de typene joins (altså 'left', 'right', 'inner', eller 'outer') vi skal bruke avhenger av hva vi vil ha som radene - husk vår diskusjon om {ref}`sec:ryddig`. "
   ]
  },
  {
   "cell_type": "markdown",
   "metadata": {
    "editable": true,
    "slideshow": {
     "slide_type": ""
    },
    "tags": []
   },
   "source": [
    "### Reformatere data\n",
    "\n",
    "Nå kommer det noen funksjoner som kan være praktisk for å reformatere data på en ryddig måte. Her lager vi eksemplet av uryddig data fra Seksjon {ref}`sec:ryddig`. "
   ]
  },
  {
   "cell_type": "code",
   "execution_count": 62,
   "metadata": {},
   "outputs": [
    {
     "data": {
      "text/html": [
       "<div>\n",
       "<style scoped>\n",
       "    .dataframe tbody tr th:only-of-type {\n",
       "        vertical-align: middle;\n",
       "    }\n",
       "\n",
       "    .dataframe tbody tr th {\n",
       "        vertical-align: top;\n",
       "    }\n",
       "\n",
       "    .dataframe thead th {\n",
       "        text-align: right;\n",
       "    }\n",
       "</style>\n",
       "<table border=\"1\" class=\"dataframe\">\n",
       "  <thead>\n",
       "    <tr style=\"text-align: right;\">\n",
       "      <th></th>\n",
       "      <th>StudentID</th>\n",
       "      <th>Matematikk</th>\n",
       "      <th>Fysikk</th>\n",
       "    </tr>\n",
       "  </thead>\n",
       "  <tbody>\n",
       "    <tr>\n",
       "      <th>0</th>\n",
       "      <td>abc123</td>\n",
       "      <td>A (95 poeng)</td>\n",
       "      <td>B (85 poeng)</td>\n",
       "    </tr>\n",
       "    <tr>\n",
       "      <th>1</th>\n",
       "      <td>def456</td>\n",
       "      <td>B (82 poeng)</td>\n",
       "      <td>D (68 poeng)</td>\n",
       "    </tr>\n",
       "    <tr>\n",
       "      <th>2</th>\n",
       "      <td>ghi789</td>\n",
       "      <td>C (76 poeng)</td>\n",
       "      <td>A (92 poeng)</td>\n",
       "    </tr>\n",
       "  </tbody>\n",
       "</table>\n",
       "</div>"
      ],
      "text/plain": [
       "  StudentID    Matematikk        Fysikk\n",
       "0    abc123  A (95 poeng)  B (85 poeng)\n",
       "1    def456  B (82 poeng)  D (68 poeng)\n",
       "2    ghi789  C (76 poeng)  A (92 poeng)"
      ]
     },
     "execution_count": 62,
     "metadata": {},
     "output_type": "execute_result"
    }
   ],
   "source": [
    "df_uryddig = pd.DataFrame(dict(StudentID=['abc123', 'def456', 'ghi789'], \n",
    "                               Matematikk=['A (95 poeng)', 'B (82 poeng)', 'C (76 poeng)'], \n",
    "                               Fysikk=['B (85 poeng)', 'D (68 poeng)', 'A (92 poeng)']))\n",
    "df_uryddig"
   ]
  },
  {
   "cell_type": "markdown",
   "metadata": {},
   "source": [
    "I dette eksempelet trenger vi igjen `str`-funksjonen for å jobbe med tekst. "
   ]
  },
  {
   "cell_type": "code",
   "execution_count": 63,
   "metadata": {},
   "outputs": [
    {
     "data": {
      "text/html": [
       "<div>\n",
       "<style scoped>\n",
       "    .dataframe tbody tr th:only-of-type {\n",
       "        vertical-align: middle;\n",
       "    }\n",
       "\n",
       "    .dataframe tbody tr th {\n",
       "        vertical-align: top;\n",
       "    }\n",
       "\n",
       "    .dataframe thead th {\n",
       "        text-align: right;\n",
       "    }\n",
       "</style>\n",
       "<table border=\"1\" class=\"dataframe\">\n",
       "  <thead>\n",
       "    <tr style=\"text-align: right;\">\n",
       "      <th></th>\n",
       "      <th>StudentID</th>\n",
       "      <th>Matematikk-Karakter</th>\n",
       "      <th>Fysikk-Karakter</th>\n",
       "      <th>Matematikk-Poeng</th>\n",
       "      <th>Fysikk-Poeng</th>\n",
       "    </tr>\n",
       "  </thead>\n",
       "  <tbody>\n",
       "    <tr>\n",
       "      <th>0</th>\n",
       "      <td>abc123</td>\n",
       "      <td>A</td>\n",
       "      <td>B</td>\n",
       "      <td>95</td>\n",
       "      <td>85</td>\n",
       "    </tr>\n",
       "    <tr>\n",
       "      <th>1</th>\n",
       "      <td>def456</td>\n",
       "      <td>B</td>\n",
       "      <td>D</td>\n",
       "      <td>82</td>\n",
       "      <td>68</td>\n",
       "    </tr>\n",
       "    <tr>\n",
       "      <th>2</th>\n",
       "      <td>ghi789</td>\n",
       "      <td>C</td>\n",
       "      <td>A</td>\n",
       "      <td>76</td>\n",
       "      <td>92</td>\n",
       "    </tr>\n",
       "  </tbody>\n",
       "</table>\n",
       "</div>"
      ],
      "text/plain": [
       "  StudentID Matematikk-Karakter Fysikk-Karakter Matematikk-Poeng Fysikk-Poeng\n",
       "0    abc123                   A               B               95           85\n",
       "1    def456                   B               D               82           68\n",
       "2    ghi789                   C               A               76           92"
      ]
     },
     "execution_count": 63,
     "metadata": {},
     "output_type": "execute_result"
    }
   ],
   "source": [
    "df_ryddig = df_uryddig.copy()\n",
    "df_ryddig[['Matematikk-Karakter', 'Matematikk-Poeng']] = df_ryddig['Matematikk'].str.extract(r'([A-F]) \\((\\d+) poeng\\)')\n",
    "df_ryddig[['Fysikk-Karakter', 'Fysikk-Poeng']] = df_ryddig['Fysikk'].str.extract(r'([A-F]) \\((\\d+) poeng\\)')\n",
    "df_ryddig = df_ryddig.loc[:, ['StudentID', 'Matematikk-Karakter', 'Fysikk-Karakter', 'Matematikk-Poeng', 'Fysikk-Poeng']]\n",
    "df_ryddig"
   ]
  },
  {
   "cell_type": "markdown",
   "metadata": {},
   "source": [
    "Her endret vi kun på kolonnene, men radene har fortsatt samme betydning som før. I det neste eksempelet bytter vi på betydning av radene også. Her lager vi først datasettet. "
   ]
  },
  {
   "cell_type": "code",
   "execution_count": 64,
   "metadata": {},
   "outputs": [
    {
     "data": {
      "text/html": [
       "<div>\n",
       "<style scoped>\n",
       "    .dataframe tbody tr th:only-of-type {\n",
       "        vertical-align: middle;\n",
       "    }\n",
       "\n",
       "    .dataframe tbody tr th {\n",
       "        vertical-align: top;\n",
       "    }\n",
       "\n",
       "    .dataframe thead th {\n",
       "        text-align: right;\n",
       "    }\n",
       "</style>\n",
       "<table border=\"1\" class=\"dataframe\">\n",
       "  <thead>\n",
       "    <tr style=\"text-align: right;\">\n",
       "      <th></th>\n",
       "      <th>StudentID</th>\n",
       "      <th>Alder</th>\n",
       "      <th>Studieprogram-Informatikk</th>\n",
       "      <th>Studieprogram-Statistikk</th>\n",
       "      <th>Karakter-Programmering</th>\n",
       "      <th>Karakter-Kalkulus</th>\n",
       "    </tr>\n",
       "  </thead>\n",
       "  <tbody>\n",
       "    <tr>\n",
       "      <th>0</th>\n",
       "      <td>abc123</td>\n",
       "      <td>24</td>\n",
       "      <td>1</td>\n",
       "      <td>0</td>\n",
       "      <td>3</td>\n",
       "      <td>6</td>\n",
       "    </tr>\n",
       "    <tr>\n",
       "      <th>1</th>\n",
       "      <td>def456</td>\n",
       "      <td>21</td>\n",
       "      <td>0</td>\n",
       "      <td>1</td>\n",
       "      <td>5</td>\n",
       "      <td>4</td>\n",
       "    </tr>\n",
       "    <tr>\n",
       "      <th>2</th>\n",
       "      <td>ghi789</td>\n",
       "      <td>32</td>\n",
       "      <td>1</td>\n",
       "      <td>0</td>\n",
       "      <td>5</td>\n",
       "      <td>5</td>\n",
       "    </tr>\n",
       "  </tbody>\n",
       "</table>\n",
       "</div>"
      ],
      "text/plain": [
       "  StudentID  Alder  Studieprogram-Informatikk  Studieprogram-Statistikk  \\\n",
       "0    abc123     24                          1                         0   \n",
       "1    def456     21                          0                         1   \n",
       "2    ghi789     32                          1                         0   \n",
       "\n",
       "   Karakter-Programmering  Karakter-Kalkulus  \n",
       "0                       3                  6  \n",
       "1                       5                  4  \n",
       "2                       5                  5  "
      ]
     },
     "execution_count": 64,
     "metadata": {},
     "output_type": "execute_result"
    }
   ],
   "source": [
    "df_original = pd.DataFrame({\n",
    "    'StudentID': ['abc123', 'def456', 'ghi789'],\n",
    "    'Alder': [24, 21, 32],\n",
    "    'Studieprogram-Informatikk': [1, 0, 1],\n",
    "    'Studieprogram-Statistikk': [0, 1, 0],\n",
    "    'Karakter-Programmering': [3, 5, 5], \n",
    "    'Karakter-Kalkulus': [6, 4, 5]})\n",
    "df_original"
   ]
  },
  {
   "cell_type": "markdown",
   "metadata": {},
   "source": [
    "Som første steg fjerner vi dummy-kolonnene for studieprogramet. "
   ]
  },
  {
   "cell_type": "code",
   "execution_count": 65,
   "metadata": {},
   "outputs": [
    {
     "data": {
      "text/html": [
       "<div>\n",
       "<style scoped>\n",
       "    .dataframe tbody tr th:only-of-type {\n",
       "        vertical-align: middle;\n",
       "    }\n",
       "\n",
       "    .dataframe tbody tr th {\n",
       "        vertical-align: top;\n",
       "    }\n",
       "\n",
       "    .dataframe thead th {\n",
       "        text-align: right;\n",
       "    }\n",
       "</style>\n",
       "<table border=\"1\" class=\"dataframe\">\n",
       "  <thead>\n",
       "    <tr style=\"text-align: right;\">\n",
       "      <th></th>\n",
       "      <th>StudentID</th>\n",
       "      <th>Alder</th>\n",
       "      <th>Karakter-Programmering</th>\n",
       "      <th>Karakter-Kalkulus</th>\n",
       "      <th>Studieprogram</th>\n",
       "    </tr>\n",
       "  </thead>\n",
       "  <tbody>\n",
       "    <tr>\n",
       "      <th>0</th>\n",
       "      <td>abc123</td>\n",
       "      <td>24</td>\n",
       "      <td>3</td>\n",
       "      <td>6</td>\n",
       "      <td>Informatikk</td>\n",
       "    </tr>\n",
       "    <tr>\n",
       "      <th>1</th>\n",
       "      <td>def456</td>\n",
       "      <td>21</td>\n",
       "      <td>5</td>\n",
       "      <td>4</td>\n",
       "      <td>Statistikk</td>\n",
       "    </tr>\n",
       "    <tr>\n",
       "      <th>2</th>\n",
       "      <td>ghi789</td>\n",
       "      <td>32</td>\n",
       "      <td>5</td>\n",
       "      <td>5</td>\n",
       "      <td>Informatikk</td>\n",
       "    </tr>\n",
       "  </tbody>\n",
       "</table>\n",
       "</div>"
      ],
      "text/plain": [
       "  StudentID  Alder  Karakter-Programmering  Karakter-Kalkulus Studieprogram\n",
       "0    abc123     24                       3                  6   Informatikk\n",
       "1    def456     21                       5                  4    Statistikk\n",
       "2    ghi789     32                       5                  5   Informatikk"
      ]
     },
     "execution_count": 65,
     "metadata": {},
     "output_type": "execute_result"
    }
   ],
   "source": [
    "df = df_original.copy()\n",
    "dummie_columns = ['Studieprogram-Informatikk', 'Studieprogram-Statistikk']\n",
    "studieprogram_df = pd.from_dummies(df.loc[:, dummie_columns], sep='-')\n",
    "df = pd.concat([df.drop(dummie_columns, axis=1), studieprogram_df], axis=1)\n",
    "df"
   ]
  },
  {
   "cell_type": "markdown",
   "metadata": {},
   "source": [
    "Så lager vi en ny datasett, som inneholder en rad per karakter. Vi må angi hvilke kolonnene som skal til sammen identifisere en rad (`id_vars`) og hva den nye variablen (`var_name`) og verdien (`value_name`) skal hete. "
   ]
  },
  {
   "cell_type": "code",
   "execution_count": 66,
   "metadata": {},
   "outputs": [
    {
     "data": {
      "text/html": [
       "<div>\n",
       "<style scoped>\n",
       "    .dataframe tbody tr th:only-of-type {\n",
       "        vertical-align: middle;\n",
       "    }\n",
       "\n",
       "    .dataframe tbody tr th {\n",
       "        vertical-align: top;\n",
       "    }\n",
       "\n",
       "    .dataframe thead th {\n",
       "        text-align: right;\n",
       "    }\n",
       "</style>\n",
       "<table border=\"1\" class=\"dataframe\">\n",
       "  <thead>\n",
       "    <tr style=\"text-align: right;\">\n",
       "      <th></th>\n",
       "      <th>StudentID</th>\n",
       "      <th>Alder</th>\n",
       "      <th>Studieprogram</th>\n",
       "      <th>Fag</th>\n",
       "      <th>Karakter</th>\n",
       "    </tr>\n",
       "  </thead>\n",
       "  <tbody>\n",
       "    <tr>\n",
       "      <th>0</th>\n",
       "      <td>abc123</td>\n",
       "      <td>24</td>\n",
       "      <td>Informatikk</td>\n",
       "      <td>Karakter-Programmering</td>\n",
       "      <td>3</td>\n",
       "    </tr>\n",
       "    <tr>\n",
       "      <th>1</th>\n",
       "      <td>def456</td>\n",
       "      <td>21</td>\n",
       "      <td>Statistikk</td>\n",
       "      <td>Karakter-Programmering</td>\n",
       "      <td>5</td>\n",
       "    </tr>\n",
       "    <tr>\n",
       "      <th>2</th>\n",
       "      <td>ghi789</td>\n",
       "      <td>32</td>\n",
       "      <td>Informatikk</td>\n",
       "      <td>Karakter-Programmering</td>\n",
       "      <td>5</td>\n",
       "    </tr>\n",
       "    <tr>\n",
       "      <th>3</th>\n",
       "      <td>abc123</td>\n",
       "      <td>24</td>\n",
       "      <td>Informatikk</td>\n",
       "      <td>Karakter-Kalkulus</td>\n",
       "      <td>6</td>\n",
       "    </tr>\n",
       "    <tr>\n",
       "      <th>4</th>\n",
       "      <td>def456</td>\n",
       "      <td>21</td>\n",
       "      <td>Statistikk</td>\n",
       "      <td>Karakter-Kalkulus</td>\n",
       "      <td>4</td>\n",
       "    </tr>\n",
       "    <tr>\n",
       "      <th>5</th>\n",
       "      <td>ghi789</td>\n",
       "      <td>32</td>\n",
       "      <td>Informatikk</td>\n",
       "      <td>Karakter-Kalkulus</td>\n",
       "      <td>5</td>\n",
       "    </tr>\n",
       "  </tbody>\n",
       "</table>\n",
       "</div>"
      ],
      "text/plain": [
       "  StudentID  Alder Studieprogram                     Fag  Karakter\n",
       "0    abc123     24   Informatikk  Karakter-Programmering         3\n",
       "1    def456     21    Statistikk  Karakter-Programmering         5\n",
       "2    ghi789     32   Informatikk  Karakter-Programmering         5\n",
       "3    abc123     24   Informatikk       Karakter-Kalkulus         6\n",
       "4    def456     21    Statistikk       Karakter-Kalkulus         4\n",
       "5    ghi789     32   Informatikk       Karakter-Kalkulus         5"
      ]
     },
     "execution_count": 66,
     "metadata": {},
     "output_type": "execute_result"
    }
   ],
   "source": [
    "df_melted = pd.melt(df, id_vars=['StudentID', 'Alder', 'Studieprogram'], var_name='Fag', value_name='Karakter')\n",
    "df_melted"
   ]
  },
  {
   "cell_type": "markdown",
   "metadata": {},
   "source": [
    "Til slutt kan vi fjerne 'Karakter-' fra faget. "
   ]
  },
  {
   "cell_type": "code",
   "execution_count": 67,
   "metadata": {},
   "outputs": [
    {
     "data": {
      "text/html": [
       "<div>\n",
       "<style scoped>\n",
       "    .dataframe tbody tr th:only-of-type {\n",
       "        vertical-align: middle;\n",
       "    }\n",
       "\n",
       "    .dataframe tbody tr th {\n",
       "        vertical-align: top;\n",
       "    }\n",
       "\n",
       "    .dataframe thead th {\n",
       "        text-align: right;\n",
       "    }\n",
       "</style>\n",
       "<table border=\"1\" class=\"dataframe\">\n",
       "  <thead>\n",
       "    <tr style=\"text-align: right;\">\n",
       "      <th></th>\n",
       "      <th>StudentID</th>\n",
       "      <th>Alder</th>\n",
       "      <th>Studieprogram</th>\n",
       "      <th>Fag</th>\n",
       "      <th>Karakter</th>\n",
       "    </tr>\n",
       "  </thead>\n",
       "  <tbody>\n",
       "    <tr>\n",
       "      <th>0</th>\n",
       "      <td>abc123</td>\n",
       "      <td>24</td>\n",
       "      <td>Informatikk</td>\n",
       "      <td>Programmering</td>\n",
       "      <td>3</td>\n",
       "    </tr>\n",
       "    <tr>\n",
       "      <th>1</th>\n",
       "      <td>def456</td>\n",
       "      <td>21</td>\n",
       "      <td>Statistikk</td>\n",
       "      <td>Programmering</td>\n",
       "      <td>5</td>\n",
       "    </tr>\n",
       "    <tr>\n",
       "      <th>2</th>\n",
       "      <td>ghi789</td>\n",
       "      <td>32</td>\n",
       "      <td>Informatikk</td>\n",
       "      <td>Programmering</td>\n",
       "      <td>5</td>\n",
       "    </tr>\n",
       "    <tr>\n",
       "      <th>3</th>\n",
       "      <td>abc123</td>\n",
       "      <td>24</td>\n",
       "      <td>Informatikk</td>\n",
       "      <td>Kalkulus</td>\n",
       "      <td>6</td>\n",
       "    </tr>\n",
       "    <tr>\n",
       "      <th>4</th>\n",
       "      <td>def456</td>\n",
       "      <td>21</td>\n",
       "      <td>Statistikk</td>\n",
       "      <td>Kalkulus</td>\n",
       "      <td>4</td>\n",
       "    </tr>\n",
       "    <tr>\n",
       "      <th>5</th>\n",
       "      <td>ghi789</td>\n",
       "      <td>32</td>\n",
       "      <td>Informatikk</td>\n",
       "      <td>Kalkulus</td>\n",
       "      <td>5</td>\n",
       "    </tr>\n",
       "  </tbody>\n",
       "</table>\n",
       "</div>"
      ],
      "text/plain": [
       "  StudentID  Alder Studieprogram            Fag  Karakter\n",
       "0    abc123     24   Informatikk  Programmering         3\n",
       "1    def456     21    Statistikk  Programmering         5\n",
       "2    ghi789     32   Informatikk  Programmering         5\n",
       "3    abc123     24   Informatikk       Kalkulus         6\n",
       "4    def456     21    Statistikk       Kalkulus         4\n",
       "5    ghi789     32   Informatikk       Kalkulus         5"
      ]
     },
     "execution_count": 67,
     "metadata": {},
     "output_type": "execute_result"
    }
   ],
   "source": [
    "df_melted.loc[:, 'Fag'] = df_melted.loc[:, 'Fag'].str.split('-', n=1).str.get(1)\n",
    "df_melted"
   ]
  },
  {
   "cell_type": "markdown",
   "metadata": {},
   "source": [
    "Nå har vi omformattert datasettet til et annet format. Kan vi komme tilbake igjen?\n",
    "\n",
    "Her bruker vi akkurat de samme stegene men maklengs. Først legger vi til 'Karakter-' til faget igjen. "
   ]
  },
  {
   "cell_type": "code",
   "execution_count": 68,
   "metadata": {},
   "outputs": [
    {
     "data": {
      "text/html": [
       "<div>\n",
       "<style scoped>\n",
       "    .dataframe tbody tr th:only-of-type {\n",
       "        vertical-align: middle;\n",
       "    }\n",
       "\n",
       "    .dataframe tbody tr th {\n",
       "        vertical-align: top;\n",
       "    }\n",
       "\n",
       "    .dataframe thead th {\n",
       "        text-align: right;\n",
       "    }\n",
       "</style>\n",
       "<table border=\"1\" class=\"dataframe\">\n",
       "  <thead>\n",
       "    <tr style=\"text-align: right;\">\n",
       "      <th></th>\n",
       "      <th>StudentID</th>\n",
       "      <th>Alder</th>\n",
       "      <th>Studieprogram</th>\n",
       "      <th>Fag</th>\n",
       "      <th>Karakter</th>\n",
       "    </tr>\n",
       "  </thead>\n",
       "  <tbody>\n",
       "    <tr>\n",
       "      <th>0</th>\n",
       "      <td>abc123</td>\n",
       "      <td>24</td>\n",
       "      <td>Informatikk</td>\n",
       "      <td>Karakter-Programmering</td>\n",
       "      <td>3</td>\n",
       "    </tr>\n",
       "    <tr>\n",
       "      <th>1</th>\n",
       "      <td>def456</td>\n",
       "      <td>21</td>\n",
       "      <td>Statistikk</td>\n",
       "      <td>Karakter-Programmering</td>\n",
       "      <td>5</td>\n",
       "    </tr>\n",
       "    <tr>\n",
       "      <th>2</th>\n",
       "      <td>ghi789</td>\n",
       "      <td>32</td>\n",
       "      <td>Informatikk</td>\n",
       "      <td>Karakter-Programmering</td>\n",
       "      <td>5</td>\n",
       "    </tr>\n",
       "    <tr>\n",
       "      <th>3</th>\n",
       "      <td>abc123</td>\n",
       "      <td>24</td>\n",
       "      <td>Informatikk</td>\n",
       "      <td>Karakter-Kalkulus</td>\n",
       "      <td>6</td>\n",
       "    </tr>\n",
       "    <tr>\n",
       "      <th>4</th>\n",
       "      <td>def456</td>\n",
       "      <td>21</td>\n",
       "      <td>Statistikk</td>\n",
       "      <td>Karakter-Kalkulus</td>\n",
       "      <td>4</td>\n",
       "    </tr>\n",
       "    <tr>\n",
       "      <th>5</th>\n",
       "      <td>ghi789</td>\n",
       "      <td>32</td>\n",
       "      <td>Informatikk</td>\n",
       "      <td>Karakter-Kalkulus</td>\n",
       "      <td>5</td>\n",
       "    </tr>\n",
       "  </tbody>\n",
       "</table>\n",
       "</div>"
      ],
      "text/plain": [
       "  StudentID  Alder Studieprogram                     Fag  Karakter\n",
       "0    abc123     24   Informatikk  Karakter-Programmering         3\n",
       "1    def456     21    Statistikk  Karakter-Programmering         5\n",
       "2    ghi789     32   Informatikk  Karakter-Programmering         5\n",
       "3    abc123     24   Informatikk       Karakter-Kalkulus         6\n",
       "4    def456     21    Statistikk       Karakter-Kalkulus         4\n",
       "5    ghi789     32   Informatikk       Karakter-Kalkulus         5"
      ]
     },
     "execution_count": 68,
     "metadata": {},
     "output_type": "execute_result"
    }
   ],
   "source": [
    "df_melted.loc[:, 'Fag'] = 'Karakter-' + df_melted.loc[:, 'Fag']\n",
    "df_melted"
   ]
  },
  {
   "cell_type": "markdown",
   "metadata": {},
   "source": [
    "Så bruker vi funksjonen `pivot` til å lage flere kolonner ut av en kolonne. Legg merke til at det som var `id_vars` for `melt`-funksjonen blir til `index` nå. Det som var `var_name` blir til `columns` og det som var `value_name` ble til `values`. Her ser godt at `pivot` og `melt` er inverse funkjsoner. "
   ]
  },
  {
   "cell_type": "code",
   "execution_count": 69,
   "metadata": {},
   "outputs": [
    {
     "data": {
      "text/html": [
       "<div>\n",
       "<style scoped>\n",
       "    .dataframe tbody tr th:only-of-type {\n",
       "        vertical-align: middle;\n",
       "    }\n",
       "\n",
       "    .dataframe tbody tr th {\n",
       "        vertical-align: top;\n",
       "    }\n",
       "\n",
       "    .dataframe thead th {\n",
       "        text-align: right;\n",
       "    }\n",
       "</style>\n",
       "<table border=\"1\" class=\"dataframe\">\n",
       "  <thead>\n",
       "    <tr style=\"text-align: right;\">\n",
       "      <th>Fag</th>\n",
       "      <th>StudentID</th>\n",
       "      <th>Alder</th>\n",
       "      <th>Studieprogram</th>\n",
       "      <th>Karakter-Kalkulus</th>\n",
       "      <th>Karakter-Programmering</th>\n",
       "    </tr>\n",
       "  </thead>\n",
       "  <tbody>\n",
       "    <tr>\n",
       "      <th>0</th>\n",
       "      <td>abc123</td>\n",
       "      <td>24</td>\n",
       "      <td>Informatikk</td>\n",
       "      <td>6</td>\n",
       "      <td>3</td>\n",
       "    </tr>\n",
       "    <tr>\n",
       "      <th>1</th>\n",
       "      <td>def456</td>\n",
       "      <td>21</td>\n",
       "      <td>Statistikk</td>\n",
       "      <td>4</td>\n",
       "      <td>5</td>\n",
       "    </tr>\n",
       "    <tr>\n",
       "      <th>2</th>\n",
       "      <td>ghi789</td>\n",
       "      <td>32</td>\n",
       "      <td>Informatikk</td>\n",
       "      <td>5</td>\n",
       "      <td>5</td>\n",
       "    </tr>\n",
       "  </tbody>\n",
       "</table>\n",
       "</div>"
      ],
      "text/plain": [
       "Fag StudentID  Alder Studieprogram  Karakter-Kalkulus  Karakter-Programmering\n",
       "0      abc123     24   Informatikk                  6                       3\n",
       "1      def456     21    Statistikk                  4                       5\n",
       "2      ghi789     32   Informatikk                  5                       5"
      ]
     },
     "execution_count": 69,
     "metadata": {},
     "output_type": "execute_result"
    }
   ],
   "source": [
    "df_pivoted = df_melted.pivot(index=['StudentID', 'Alder', 'Studieprogram'], columns='Fag', values='Karakter').reset_index()\n",
    "df_pivoted"
   ]
  },
  {
   "cell_type": "markdown",
   "metadata": {},
   "source": [
    "Til slutt må vi også lage dummie-variablene igjen. "
   ]
  },
  {
   "cell_type": "code",
   "execution_count": 70,
   "metadata": {},
   "outputs": [
    {
     "data": {
      "text/html": [
       "<div>\n",
       "<style scoped>\n",
       "    .dataframe tbody tr th:only-of-type {\n",
       "        vertical-align: middle;\n",
       "    }\n",
       "\n",
       "    .dataframe tbody tr th {\n",
       "        vertical-align: top;\n",
       "    }\n",
       "\n",
       "    .dataframe thead th {\n",
       "        text-align: right;\n",
       "    }\n",
       "</style>\n",
       "<table border=\"1\" class=\"dataframe\">\n",
       "  <thead>\n",
       "    <tr style=\"text-align: right;\">\n",
       "      <th></th>\n",
       "      <th>StudentID</th>\n",
       "      <th>Alder</th>\n",
       "      <th>Karakter-Kalkulus</th>\n",
       "      <th>Karakter-Programmering</th>\n",
       "      <th>Studieprogram-Informatikk</th>\n",
       "      <th>Studieprogram-Statistikk</th>\n",
       "    </tr>\n",
       "  </thead>\n",
       "  <tbody>\n",
       "    <tr>\n",
       "      <th>0</th>\n",
       "      <td>abc123</td>\n",
       "      <td>24</td>\n",
       "      <td>6</td>\n",
       "      <td>3</td>\n",
       "      <td>1</td>\n",
       "      <td>0</td>\n",
       "    </tr>\n",
       "    <tr>\n",
       "      <th>1</th>\n",
       "      <td>def456</td>\n",
       "      <td>21</td>\n",
       "      <td>4</td>\n",
       "      <td>5</td>\n",
       "      <td>0</td>\n",
       "      <td>1</td>\n",
       "    </tr>\n",
       "    <tr>\n",
       "      <th>2</th>\n",
       "      <td>ghi789</td>\n",
       "      <td>32</td>\n",
       "      <td>5</td>\n",
       "      <td>5</td>\n",
       "      <td>1</td>\n",
       "      <td>0</td>\n",
       "    </tr>\n",
       "  </tbody>\n",
       "</table>\n",
       "</div>"
      ],
      "text/plain": [
       "  StudentID  Alder  Karakter-Kalkulus  Karakter-Programmering  \\\n",
       "0    abc123     24                  6                       3   \n",
       "1    def456     21                  4                       5   \n",
       "2    ghi789     32                  5                       5   \n",
       "\n",
       "   Studieprogram-Informatikk  Studieprogram-Statistikk  \n",
       "0                          1                         0  \n",
       "1                          0                         1  \n",
       "2                          1                         0  "
      ]
     },
     "execution_count": 70,
     "metadata": {},
     "output_type": "execute_result"
    }
   ],
   "source": [
    "df_tilbake = pd.get_dummies(df_pivoted, columns=['Studieprogram'], dtype=int, prefix_sep='-')\n",
    "df_tilbake"
   ]
  },
  {
   "cell_type": "markdown",
   "metadata": {},
   "source": [
    "Nå har vi de samme data som vi begynte med. Vi kan sjkke det ved gjelp av `equals`-funksjonen. Siden kolonne-rekkefølgen har forandret seg bruker vi `sort_index` på begge dataframes. "
   ]
  },
  {
   "cell_type": "code",
   "execution_count": 71,
   "metadata": {},
   "outputs": [
    {
     "data": {
      "text/plain": [
       "True"
      ]
     },
     "execution_count": 71,
     "metadata": {},
     "output_type": "execute_result"
    }
   ],
   "source": [
    "df_original.sort_index(axis=1).equals(df_tilbake.sort_index(axis=1))"
   ]
  }
 ],
 "metadata": {
  "kernelspec": {
   "display_name": "dsbook",
   "language": "python",
   "name": "dsbook"
  },
  "language_info": {
   "codemirror_mode": {
    "name": "ipython",
    "version": 3
   },
   "file_extension": ".py",
   "mimetype": "text/x-python",
   "name": "python",
   "nbconvert_exporter": "python",
   "pygments_lexer": "ipython3",
   "version": "3.12.4"
  }
 },
 "nbformat": 4,
 "nbformat_minor": 4
}