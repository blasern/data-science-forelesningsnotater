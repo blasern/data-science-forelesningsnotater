{
 "cells": [
  {
   "cell_type": "code",
   "execution_count": null,
   "id": "c2d7f1ad-1e54-4fda-a432-36f55c2c971f",
   "metadata": {},
   "outputs": [],
   "source": [
    "import plotly.express as px\n",
    "import numpy as np\n",
    "import pandas as pd"
   ]
  },
  {
   "cell_type": "code",
   "execution_count": null,
   "id": "f3edfcc1-403b-4388-8462-4f9170a66edb",
   "metadata": {},
   "outputs": [],
   "source": [
    "rng = np.random.RandomState(0)"
   ]
  },
  {
   "cell_type": "code",
   "execution_count": null,
   "id": "ea3372f2-d94e-4a59-93be-307b0e50c50d",
   "metadata": {},
   "outputs": [],
   "source": [
    "n = (10, 10)\n",
    "xy = np.vstack((rng.multivariate_normal(size=n[0], mean=[0, 0], cov=np.array([[6, -3], [-3, 3.5]])), \n",
    "                rng.multivariate_normal(size=n[1], mean=[2, 0], cov=np.eye(2))))\n",
    "df = pd.DataFrame(xy, columns=['x', 'y'])\n",
    "df.loc[:, 'class'] = np.repeat(['0', '1'], n)"
   ]
  },
  {
   "cell_type": "code",
   "execution_count": null,
   "id": "a70ca062-e3aa-4b83-bd75-03bf3c92b0d6",
   "metadata": {
    "scrolled": true
   },
   "outputs": [],
   "source": [
    "fig = px.scatter(df, x=\"x\", y=\"y\", color=\"class\")\n",
    "fig.update_traces(marker=dict(size=18), showlegend=False)\n",
    "fig.update_layout(template='plotly_white',\n",
    "                  xaxis=dict(showgrid=False, title='', showticklabels=False, zeroline=False), \n",
    "                  yaxis=dict(showgrid=False, title='', showticklabels=False, zeroline=False))\n",
    "\n",
    "fig.show()"
   ]
  }
 ],
 "metadata": {
  "kernelspec": {
   "display_name": "dsbook",
   "language": "python",
   "name": "dsbook"
  },
  "language_info": {
   "codemirror_mode": {
    "name": "ipython",
    "version": 3
   },
   "file_extension": ".py",
   "mimetype": "text/x-python",
   "name": "python",
   "nbconvert_exporter": "python",
   "pygments_lexer": "ipython3",
   "version": "3.12.3"
  }
 },
 "nbformat": 4,
 "nbformat_minor": 5
}
